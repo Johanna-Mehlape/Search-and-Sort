{
 "cells": [
  {
   "cell_type": "markdown",
   "metadata": {},
   "source": [
    "# Search and Sort Techniques\n",
    "\n",
    "Searching is a very basic necessity when you store data in different data structures. It is the algorithmic process of finding a particular item in a collection of items while sorting is the process of placing elements from a collection in some kind of order. \n",
    "\n",
    "And to these processes here certain techniques used, namely:\n",
    "Binary Search\n",
    "Insertion Sort\n",
    "Selection Sort\n",
    "Bubble Sort\n",
    "Merge Sort\n",
    "Quick Sort\n",
    "Sorting Algorithms Benchmark Comparison\n",
    "\n",
    "Below is a link to which contains question and instructions to how some of these techniques ae used. (N.B These happen to be questions to an assignment)\n",
    "\n",
    "https://umuzi-org.github.io/tech-department/projects/python-specific/search-and-sort/\n",
    "\n",
    "## Overview:\n",
    "* Importing necessary modules\n",
    "* Conduct a binary search on sorted dessert list\n",
    "* Conduct Bubble Sort\n",
    "* Conduct Selection Sort"
   ]
  },
  {
   "cell_type": "code",
   "execution_count": 1,
   "metadata": {},
   "outputs": [],
   "source": [
    "#a=['babka', 'baklava', 'cheesecake', 'cupcake', 'danish', 'eclair', 'funnelcake', 'kringle', 'lamington', 'profiterole', 'sopaipilla', 'strudel', 'tiramisu', 'torte', 'turnover']\n",
    "#print(binary_search(a,0))"
   ]
  },
  {
   "cell_type": "code",
   "execution_count": 2,
   "metadata": {},
   "outputs": [],
   "source": [
    "from bisect import bisect_left"
   ]
  },
  {
   "cell_type": "code",
   "execution_count": 3,
   "metadata": {},
   "outputs": [],
   "source": [
    "list = [0, 1, 2, 3, 4, 5, 6, 7, 8, 9, 10, 11, 12, 13, 14]\n",
    "value = ['babka', 'baklava', 'cheesecake', 'cupcake', 'danish', 'eclair', 'funnelcake', 'kringle', 'lamington', 'profiterole', 'sopaipilla', 'strudel', 'tiramisu', 'torte', 'turnover']\n",
    "\n",
    "# Function name:  binary_search\n",
    "#   Input:   list -> the list of sorted elements\n",
    "#            searchItem -> the search value\n",
    "#   Output:  the index where the search value was found in the list,\n",
    "#                or -1, if the search value is not found\n",
    "\n",
    "def binary_search (value, searchItem):\n",
    "    index = 0\n",
    "    while (index < len(value)):\n",
    "        if (value[index] == searchItem):\n",
    "            return index\n",
    "        else:\n",
    "            if (value[index] > searchItem):\n",
    "                return -1\n",
    "            index = index + 1\n",
    "            \n",
    "            return -1"
   ]
  },
  {
   "cell_type": "code",
   "execution_count": 4,
   "metadata": {},
   "outputs": [
    {
     "name": "stdout",
     "output_type": "stream",
     "text": [
      "-1\n"
     ]
    }
   ],
   "source": [
    "print(binary_search(value,'doughnut'))"
   ]
  },
  {
   "cell_type": "markdown",
   "metadata": {},
   "source": [
    "a)  What sequence of 'middle' values are compared to the target when performing a binary search with target doughnut?\n",
    "The sequence with values **['babka', 'baklava', 'cheesecake', 'cupcake', 'danish', 'eclair', 'funnelcake']** are compared to the target when performing a binary search with target doughnut and ebcause it is not there, it will return a value of -1.\n",
    "\n",
    "\n",
    "b)  What sequence of 'middle' values are compared to the target when performing a binary search with target tiramisu?\n",
    "The sequence with values **['kringle', 'lamington', 'profiterole', 'sopaipilla', 'strudel', 'tiramisu', 'torte', 'turnover']** are compared to the target when performing a binary search with target tiramisu"
   ]
  },
  {
   "cell_type": "markdown",
   "metadata": {},
   "source": [
    "### Bubble Sort"
   ]
  },
  {
   "cell_type": "code",
   "execution_count": 5,
   "metadata": {},
   "outputs": [
    {
     "name": "stdout",
     "output_type": "stream",
     "text": [
      "[6, 8, 9, 10, 11, 14, 20, 60]\n"
     ]
    }
   ],
   "source": [
    "def bubbleSort(alist):\n",
    "    for passnum in range(len(alist)-1,0,-1):\n",
    "        for i in range(passnum):\n",
    "            if alist[i]>alist[i+1]:\n",
    "                temp = alist[i]\n",
    "                alist[i] = alist[i+1]\n",
    "                alist[i+1] = temp\n",
    "                \n",
    "alist = [9, 20, 6, 10, 14, 8, 60, 11]\n",
    "\n",
    "bubbleSort(alist)\n",
    "print(alist)\n"
   ]
  },
  {
   "cell_type": "code",
   "execution_count": 6,
   "metadata": {},
   "outputs": [],
   "source": [
    "l = [9, 20, 6, 10, 14, 8, 60, 11]\n",
    "\n",
    "def bubble_sort(l):\n",
    "    for passes_left in range(len(l)-1, 0, -1):\n",
    "        for index in range(passes_left):\n",
    "            if l[index] < l[index + 1]:\n",
    "               l[index], l[index + 1] = l[index + 1], l[index]\n",
    "    return l"
   ]
  },
  {
   "cell_type": "code",
   "execution_count": 7,
   "metadata": {},
   "outputs": [
    {
     "data": {
      "text/plain": [
       "[60, 20, 14, 11, 10, 9, 8, 6]"
      ]
     },
     "execution_count": 7,
     "metadata": {},
     "output_type": "execute_result"
    }
   ],
   "source": [
    "bubble_sort(l)"
   ]
  },
  {
   "cell_type": "code",
   "execution_count": 8,
   "metadata": {},
   "outputs": [],
   "source": [
    "#Example:\n",
    "#First Pass:\n",
    "#( 5 1 4 2 8 ) –> ( 1 5 4 2 8 ), Here, algorithm compares the first two elements, and swaps since 5 > 1.\n",
    "#( 1 5 4 2 8 ) –> ( 1 4 5 2 8 ), Swap since 5 > 4\n",
    "#( 1 4 5 2 8 ) –> ( 1 4 2 5 8 ), Swap since 5 > 2\n",
    "#( 1 4 2 5 8 ) –> ( 1 4 2 5 8 ), Now, since these elements are already in order (8 > 5), algorithm does not swap them.\n",
    "\n",
    "#Second Pass:\n",
    "#( 1 4 2 5 8 ) –> ( 1 4 2 5 8 )\n",
    "#( 1 4 2 5 8 ) –> ( 1 2 4 5 8 ), Swap since 4 > 2\n",
    "#( 1 2 4 5 8 ) –> ( 1 2 4 5 8 )\n",
    "#( 1 2 4 5 8 ) –> ( 1 2 4 5 8 )\n",
    "#Now, the array is already sorted, but our algorithm does not know if it is completed. The algorithm needs one whole pass without any swap to know it is sorted.\n"
   ]
  },
  {
   "cell_type": "markdown",
   "metadata": {},
   "source": [
    "### Selection Sort\n",
    "\n",
    "Selection Sort is about picking/selecting the smallest element from the list and placing it in the sorted portion of the list. Initially, the first element is considered the minimum and compared with other elements. During these comparisons, if a smaller element is found then that is considered the new minimum. After completion of one full round, the smallest element found is swapped with the first element. This process continues till all the elements are sorted. "
   ]
  },
  {
   "cell_type": "code",
   "execution_count": 9,
   "metadata": {},
   "outputs": [
    {
     "name": "stdout",
     "output_type": "stream",
     "text": [
      "[6, 8, 9, 10, 11, 14, 20, 60]\n"
     ]
    }
   ],
   "source": [
    "alist = [9, 20, 6, 10, 14, 8, 60, 11]\n",
    "\n",
    "def selectionSort(alist):\n",
    "\n",
    "   for i in range(len(alist)):\n",
    "\n",
    "      # Find the minimum element in remaining\n",
    "       minPosition = i\n",
    "\n",
    "       for j in range(i+1, len(alist)):\n",
    "           if alist[minPosition] > alist[j]:\n",
    "               minPosition = j\n",
    "                \n",
    "       # Swap the found minimum element with minPosition       \n",
    "       temp = alist[i]\n",
    "       alist[i] = alist[minPosition]\n",
    "       alist[minPosition] = temp\n",
    "\n",
    "   return alist\n",
    "\n",
    "print(selectionSort(alist))"
   ]
  },
  {
   "cell_type": "code",
   "execution_count": 10,
   "metadata": {},
   "outputs": [
    {
     "name": "stdout",
     "output_type": "stream",
     "text": [
      "[6, 8, 9, 10, 11, 14, 20, 60]\n"
     ]
    }
   ],
   "source": [
    "def selection_sort(input_list):\n",
    "\n",
    "    for idx in range(len(input_list)):\n",
    "\n",
    "        min_idx = idx\n",
    "        for j in range( idx +1, len(input_list)):\n",
    "            if input_list[min_idx] > input_list[j]:\n",
    "                min_idx = j\n",
    "# Swap the minimum value with the compared value\n",
    "\n",
    "        input_list[idx], input_list[min_idx] = input_list[min_idx], input_list[idx]\n",
    "\n",
    "    return input_list\n",
    "\n",
    "list = [9, 20, 6, 10, 14, 8, 60, 11]\n",
    "\n",
    "print(selection_sort(list))"
   ]
  },
  {
   "cell_type": "markdown",
   "metadata": {},
   "source": [
    "With the list given we will see how Selection Sort works\n",
    "\n",
    "list = [9, 20, 6, 10, 14, 8, 60, 11]\n",
    "\n",
    "\n",
    "Round 1:\n",
    "\n",
    "9 is the minimum\n",
    "\n",
    "9<20: nothing happens\n",
    "\n",
    "6<10: 6 is new minimum\n",
    "\n",
    "10<14: nothing happens\n",
    "\n",
    "14>8: 8 is new minimum\n",
    "\n",
    "60>11: 11 is the new minimum\n",
    "\n",
    "Swap 14 and 8, as well as 60 and 11\n",
    "\n",
    "list =  [9,20,6,10,8,14,11,60]\n",
    "\n",
    "Round 2:\n",
    "\n",
    "9 is the minimum\n",
    "\n",
    "9<20: nothing happens\n",
    "\n",
    "20>6: 6 is new minimum\n",
    "\n",
    "20>10: 10 is the new minimum\n",
    "\n",
    "20>8: 8 is the new minimum\n",
    "\n",
    "20>14: 14 is the new minimun\n",
    "\n",
    "20>11: 11 is the new minimum\n",
    "\n",
    "20<60: nothing happens\n",
    "\n",
    "We swappped 20 with 6, 20 with 10, 20 with 8, 20 with  14 and 20 with 11\n",
    "\n",
    "list = [9,6,10,8,14,11,20,60]"
   ]
  },
  {
   "cell_type": "code",
   "execution_count": null,
   "metadata": {},
   "outputs": [],
   "source": []
  }
 ],
 "metadata": {
  "kernelspec": {
   "display_name": "Python 3",
   "language": "python",
   "name": "python3"
  },
  "language_info": {
   "codemirror_mode": {
    "name": "ipython",
    "version": 3
   },
   "file_extension": ".py",
   "mimetype": "text/x-python",
   "name": "python",
   "nbconvert_exporter": "python",
   "pygments_lexer": "ipython3",
   "version": "3.7.3"
  }
 },
 "nbformat": 4,
 "nbformat_minor": 2
}
