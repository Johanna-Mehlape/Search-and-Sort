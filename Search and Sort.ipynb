{
 "cells": [
  {
   "cell_type": "markdown",
   "metadata": {},
   "source": [
    "# Search and Sort Techniques\n",
    "\n",
    "Searching is a very basic necessity when you store data in different data structures. It is the algorithmic process of finding a particular item in a collection of items while sorting is the process of placing elements from a collection in some kind of order. \n",
    "\n",
    "And to these processes here certain techniques used, namely:\n",
    "- Binary Search\n",
    "- Insertion Sort\n",
    "- Selection Sort\n",
    "- Bubble Sort\n",
    "- Merge Sort\n",
    "- Quick Sort\n",
    "- Sorting Algorithms Benchmark Comparison\n",
    "\n",
    "Below is a link to which contains question and instructions to how some of these techniques ae used. (N.B These happen to be questions to an assignment)\n",
    "\n",
    "https://umuzi-org.github.io/tech-department/projects/python-specific/search-and-sort/\n",
    "\n",
    "## Overview:\n",
    "* Importing necessary modules\n",
    "* Conduct a binary search on sorted dessert list\n",
    "* Conduct Bubble Sort\n",
    "* Conduct Selection Sort"
   ]
  },
  {
   "cell_type": "code",
   "execution_count": 1,
   "metadata": {},
   "outputs": [],
   "source": [
    "from numpy.random import seed\n",
    "import math \n",
    "from bisect import bisect_left\n",
    "import random\n",
    "seed(42)\n",
    "import timeit"
   ]
  },
  {
   "cell_type": "markdown",
   "metadata": {},
   "source": [
    "### Binary Search\n",
    "\n",
    "##### 1st Method\n",
    "\n",
    "Returning a boolean if the value is in the list.\n",
    "Capture the first and last index of the list, loop and divide the list capturing the mid value. In each loop will do the same, then compare if value input is equal to mid value."
   ]
  },
  {
   "cell_type": "code",
   "execution_count": 2,
   "metadata": {},
   "outputs": [],
   "source": [
    "index = [0, 1, 2, 3, 4, 5, 6, 7, 8, 9, 10, 11, 12, 13, 14]\n",
    "array = ['babka', 'baklava', 'cheesecake', 'cupcake', 'danish', 'eclair', 'funnelcake', 'kringle', 'lamington', 'profiterole', 'sopaipilla', 'strudel', 'tiramisu', 'torte', 'turnover']\n",
    "\n",
    "def binarySearch(array, value):\n",
    "  array = sorted(array)\n",
    "  first = 0\n",
    "  last = len(array) - 1\n",
    "\n",
    "  while first <= last:\n",
    "    midIndex = (first + last) // 2\n",
    "    midValue = array[midIndex]\n",
    "\n",
    "    if value == midValue:\n",
    "      return True\n",
    "    if value < midValue:\n",
    "      last = midIndex - 1\n",
    "    if value > midValue:\n",
    "      first = midIndex + 1\n",
    "  return False"
   ]
  },
  {
   "cell_type": "code",
   "execution_count": 3,
   "metadata": {},
   "outputs": [
    {
     "data": {
      "text/plain": [
       "False"
      ]
     },
     "execution_count": 3,
     "metadata": {},
     "output_type": "execute_result"
    }
   ],
   "source": [
    "binarySearch(array, 'doughnut')"
   ]
  },
  {
   "cell_type": "code",
   "execution_count": 4,
   "metadata": {},
   "outputs": [
    {
     "data": {
      "text/plain": [
       "True"
      ]
     },
     "execution_count": 4,
     "metadata": {},
     "output_type": "execute_result"
    }
   ],
   "source": [
    "binarySearch(array, 'tiramisu')"
   ]
  },
  {
   "cell_type": "markdown",
   "metadata": {},
   "source": [
    "#### 2nd Method\n",
    "\n",
    "###### Create Function, name:  binary_search\n",
    "- Input:   list -> the list of sorted elements\n",
    "- val -> the search value\n",
    "- Output:  the index where the search value was found in the list, or -1, if the search value is not found\n",
    "\n",
    "So first we find the middle most value then # Compare the value the middle most value then from there we initialize the sorted list and print the search results."
   ]
  },
  {
   "cell_type": "code",
   "execution_count": 5,
   "metadata": {},
   "outputs": [],
   "source": [
    "def binary_search (list, val):\n",
    "    \n",
    "    list_size = len(list) - 1\n",
    "\n",
    "    idx0 = 0\n",
    "    idxn = list_size\n",
    "\n",
    "    while idx0 <= idxn:\n",
    "        midval = (idx0 + idxn)// 2\n",
    "        print(list[midval] + \"-\", \"index: \" + str(midval))\n",
    "\n",
    "        if list[midval] == val:\n",
    "            return True\n",
    "\n",
    "        if val > list[midval]:\n",
    "            idx0 = midval + 1\n",
    "        else:\n",
    "            idxn = midval - 1\n",
    "\n",
    "    if idx0 > idxn:\n",
    "        return False\n",
    "\n",
    "list = ['babka', 'baklava', 'cheesecake', 'cupcake', 'danish', 'eclair', \n",
    "        'funnelcake', 'kringle', 'lamington', 'profiterole', 'sopaipilla', \n",
    "        'strudel', 'tiramisu', 'torte', 'turnover']\n",
    " "
   ]
  },
  {
   "cell_type": "markdown",
   "metadata": {},
   "source": [
    "a)  What sequence of 'middle' values are compared to the target when performing a binary search with target doughnut?\n",
    "\n",
    "To find the 'middle' value, the following algorithm is used: \n",
    "- 'middle' values = (first(index0) + last(index-1))/2"
   ]
  },
  {
   "cell_type": "code",
   "execution_count": 6,
   "metadata": {},
   "outputs": [
    {
     "name": "stdout",
     "output_type": "stream",
     "text": [
      "kringle- index: 7\n",
      "cupcake- index: 3\n",
      "eclair- index: 5\n",
      "danish- index: 4\n"
     ]
    },
    {
     "data": {
      "text/plain": [
       "False"
      ]
     },
     "execution_count": 6,
     "metadata": {},
     "output_type": "execute_result"
    }
   ],
   "source": [
    "binary_search(list, 'doughnut') #should return False"
   ]
  },
  {
   "cell_type": "markdown",
   "metadata": {},
   "source": [
    "b)  What sequence of 'middle' values are compared to the target when performing a binary search with target tiramisu?\n",
    "\n",
    "To find the 'middle' value, the following algorithm is used:\n",
    "- 'middle' values = (first(index0) + last(index-1))/2"
   ]
  },
  {
   "cell_type": "code",
   "execution_count": 7,
   "metadata": {},
   "outputs": [
    {
     "name": "stdout",
     "output_type": "stream",
     "text": [
      "kringle- index: 7\n",
      "strudel- index: 11\n",
      "torte- index: 13\n",
      "tiramisu- index: 12\n"
     ]
    },
    {
     "data": {
      "text/plain": [
       "True"
      ]
     },
     "execution_count": 7,
     "metadata": {},
     "output_type": "execute_result"
    }
   ],
   "source": [
    "binary_search(list, 'tiramisu') #should return True"
   ]
  },
  {
   "cell_type": "markdown",
   "metadata": {},
   "source": [
    "### Bubble Sort"
   ]
  },
  {
   "cell_type": "code",
   "execution_count": 8,
   "metadata": {},
   "outputs": [
    {
     "name": "stdout",
     "output_type": "stream",
     "text": [
      "[6, 8, 9, 10, 11, 14, 20, 60]\n"
     ]
    }
   ],
   "source": [
    "def bubbleSort(alist):\n",
    "    for passnum in range(len(alist)-1,0,-1):\n",
    "        for i in range(passnum):\n",
    "            if alist[i]>alist[i+1]:\n",
    "                temp = alist[i]\n",
    "                alist[i] = alist[i+1]\n",
    "                alist[i+1] = temp\n",
    "                \n",
    "alist = [9, 20, 6, 10, 14, 8, 60, 11]\n",
    "\n",
    "bubbleSort(alist)\n",
    "print(alist)\n"
   ]
  },
  {
   "cell_type": "code",
   "execution_count": 9,
   "metadata": {},
   "outputs": [],
   "source": [
    "l = [9, 20, 6, 10, 14, 8, 60, 11]\n",
    "\n",
    "def bubble_sort(l):\n",
    "    for passes_left in range(len(l)-1, 0, -1):\n",
    "        for index in range(passes_left):\n",
    "            if l[index] < l[index + 1]:\n",
    "               l[index], l[index + 1] = l[index + 1], l[index]\n",
    "    return l"
   ]
  },
  {
   "cell_type": "code",
   "execution_count": 10,
   "metadata": {},
   "outputs": [
    {
     "data": {
      "text/plain": [
       "[60, 20, 14, 11, 10, 9, 8, 6]"
      ]
     },
     "execution_count": 10,
     "metadata": {},
     "output_type": "execute_result"
    }
   ],
   "source": [
    "bubble_sort(l)"
   ]
  },
  {
   "cell_type": "markdown",
   "metadata": {},
   "source": [
    "l = [9, 20, 6, 10, 14, 8, 60, 11]\n",
    "\n",
    "###### First pass:\n",
    "\n",
    "Here, algorithm compares the first two elements, and since 9 < 20, nothing changes\n",
    "\n",
    "[9, 20, 6, 10, 14, 8, 60, 11] –> [9, 20, 6, 10, 14, 8, 60, 11], \n",
    "\n",
    "Swap since 20 > 6\n",
    "\n",
    "[9, 20, 6, 10, 14, 8, 60, 11] –> [9, 6, 20, 10, 14, 8, 60, 11], \n",
    "\n",
    "Swap since 20 > 10\n",
    "\n",
    "[9, 6, 20, 10, 14, 8, 60, 11] –> [9, 6, 10, 20, 14, 8, 60, 11], \n",
    "\n",
    "Swap since 20 > 14\n",
    "\n",
    "[9, 6, 10, 20, 14, 8, 60, 11] –> [9, 6, 10, 14, 20, 8, 60, 11], \n",
    "\n",
    "Swap since 20 > 14\n",
    "\n",
    "[9, 6, 10, 14, 20, 8, 60, 11] –> [9, 6, 10, 14, 8, 20, 60, 11], \n",
    "\n",
    "20 remains in that position, you only swap 60 and 11 because 60 > 11\n",
    "\n",
    "[9, 6, 10, 14, 8, 20, 60, 11] –> [9, 6, 10, 14, 8, 20, 11,60], \n",
    "\n",
    "###### Second pass:\n",
    "\n",
    "Go back to the first index(i=0), swap since 9 > 6\n",
    "\n",
    "[9, 6, 10, 14, 8, 20, 11,60] –> [6, 9, 10, 14, 8, 20, 11, 60],\n",
    "\n",
    "Since 9 < 10, and 10 < 14, swap 14 and 8 since 14 > 8\n",
    "\n",
    "[6, 9, 10, 14, 8, 20, 11, 60] –> [6, 9, 10, 8, 14, 20, 11, 60],\n",
    "\n",
    "This is list is now sorted we move on to the next pass\n",
    "\n",
    "[6, 9, 10, 8, 14, 20, 11, 60] –> [6, 9, 10 , 8, 14, 11, 20, 60],\n",
    "\n",
    "###### Third pass\n",
    "\n",
    "Go back to the first index(i=0), 6 and 9 remain in the same position,  swap 10 and 8 since 10 > 8\n",
    "\n",
    "[6, 9, 10 , 8, 14, 11, 20, 60] –> [6, 9, 8, 10, 14, 11, 20, 60], \n",
    "\n",
    "This is list is now sorted we move on to the next pass\n",
    "\n",
    "[6, 9, 8, 10, 14, 11, 20, 60] –> [6, 9, 8, 10, 11, 14, 20, 60],\n",
    "\n",
    "###### Fourth pass\n",
    "\n",
    "Go back to the first index(i=0), 6< 9, so it remains in its position but 9 > 8 so we swap and now our list is sorted but it doesn't know that so we do our final pass\n",
    "\n",
    "[6, 9, 8, 10, 14, 11, 20, 60] –> [6, 8, 9, 10, 11, 14, 20, 60]\n",
    "\n",
    "###### Last Pass\n",
    "Our list is sorted\n",
    "\n",
    "[6, 8, 9, 10, 11, 14, 20, 60] –> [6, 8, 9, 10, 11, 14, 20, 60]\n"
   ]
  },
  {
   "cell_type": "markdown",
   "metadata": {},
   "source": [
    "### Selection Sort\n",
    "\n",
    "Selection Sort is about picking/selecting the smallest element from the list and placing it in the sorted portion of the list. Initially, the first element is considered the minimum and compared with other elements. During these comparisons, if a smaller element is found then that is considered the new minimum. After completion of one full round, the smallest element found is swapped with the first element. This process continues till all the elements are sorted. "
   ]
  },
  {
   "cell_type": "code",
   "execution_count": 11,
   "metadata": {},
   "outputs": [
    {
     "name": "stdout",
     "output_type": "stream",
     "text": [
      "[6, 8, 9, 10, 11, 14, 20, 60]\n"
     ]
    }
   ],
   "source": [
    "alist = [9, 20, 6, 10, 14, 8, 60, 11]\n",
    "\n",
    "def selectionSort(alist):\n",
    "\n",
    "   for i in range(len(alist)):\n",
    "\n",
    "      # Find the minimum element in remaining\n",
    "       minPosition = i\n",
    "\n",
    "       for j in range(i+1, len(alist)):\n",
    "           if alist[minPosition] > alist[j]:\n",
    "               minPosition = j\n",
    "                \n",
    "       # Swap the found minimum element with minPosition       \n",
    "       temp = alist[i]\n",
    "       alist[i] = alist[minPosition]\n",
    "       alist[minPosition] = temp\n",
    "\n",
    "   return alist\n",
    "\n",
    "print(selectionSort(alist))"
   ]
  },
  {
   "cell_type": "markdown",
   "metadata": {},
   "source": [
    "With the list given we will see how Selection Sort works\n",
    "\n",
    "list = [9, 20, 6, 10, 14, 8, 60, 11]\n",
    "\n",
    "\n",
    "###### First Pass:\n",
    "\n",
    "9 is the minimum\n",
    "\n",
    "9 < 20: nothing happens\n",
    "\n",
    "9 > 6: 6 is new minimum\n",
    "\n",
    "6 < 10: nothing happens\n",
    "\n",
    "6 < 14: nothing happens\n",
    "\n",
    "6 < 8: nothing happens\n",
    "\n",
    "6 < 60: nothing happens\n",
    "\n",
    "6 < 11:nothing happens\n",
    "\n",
    "Swap 6 and 9\n",
    "\n",
    "list =  [6,20,9,10,8,14,11,60]\n",
    "\n",
    "###### Second Pass:\n",
    "\n",
    "6 is the minimum\n",
    "\n",
    "6  <20: nothing happens\n",
    "\n",
    "20 > 9: 9 is the new minimun\n",
    "\n",
    "20>10: 10 is the new minimum\n",
    "\n",
    "20>8: 8 is the new minimum\n",
    "\n",
    "20>14: 14 is the new minimun\n",
    "\n",
    "20>11: 11 is the new minimum\n",
    "\n",
    "20<60: nothing happens\n",
    "\n",
    "We swappped 20 with 6, 20 with 10, 20 with 8, 20 with  14 and 20 with 11\n",
    "\n",
    "list = [6,9,10,8,14,11,20,60]\n",
    "\n",
    "###### Third Pass:\n",
    "10 is the new minimum\n",
    "10 > 8: 8 is the new minimum\n",
    "10 < 14: nothing happens\n",
    "14 > 11: 11 is the new minimum\n",
    "14 < 20: nothing happens\n",
    "\n",
    "We swapped 8 and 11\n",
    "\n",
    "list = [6,9,8,10,11,14,20,60]\n",
    "\n",
    "###### Fourth Pass:\n",
    "\n",
    "9 is the new minimum\n",
    "9 > 8: 8 is the new minimum\n",
    "\n",
    "We swapped 8 and 9\n",
    "\n",
    "list is sorted \n",
    "list = [6,8,9,10,11,14,20,60]\n",
    "\n",
    "The three search algorithms have varying run times, with the unsorted sequential search being the least efficient and the binary search being the most efficient (among the three).\n",
    "\n",
    "a) Modify the code for the seq_search.py (for unsorted lists), seq_search_ordered.py and binary_search.py to count the number of elements checked during the search.\n",
    "\n",
    "### Sequential Search(unordered lists)  to count the number of elements checked during the search. "
   ]
  },
  {
   "cell_type": "code",
   "execution_count": 12,
   "metadata": {},
   "outputs": [],
   "source": [
    "def sequential_search(values, search_for):\n",
    "    search_at = 0\n",
    "    search_res = False\n",
    "    #add count, begin at 0 .\n",
    "    count = 0# Match the value with each data element\n",
    "    while search_at < len(values) and search_res is False:\n",
    "        if values[search_at] == search_for:\n",
    "            search_res = True\n",
    "        else:\n",
    "            search_at = search_at + 1\n",
    "            #initialize the count\n",
    "        count += 1\n",
    "            #print the count of number of elements checked.\n",
    "    print(\"number of elements checked = \", count)    \n",
    "    return search_res"
   ]
  },
  {
   "cell_type": "code",
   "execution_count": 13,
   "metadata": {},
   "outputs": [
    {
     "name": "stdout",
     "output_type": "stream",
     "text": [
      "number of elements checked =  17\n",
      "True\n"
     ]
    }
   ],
   "source": [
    "# i. Search for the value 9 in the following array:\n",
    "A = [6, 19, -3, 5, 12, 7, 21, -8, 25, 10, 0, 28, -6, 1, 33, \n",
    "     18, 9, 2, -13, 43]\n",
    "print(sequential_search(A, 9)) #should return True"
   ]
  },
  {
   "cell_type": "code",
   "execution_count": 14,
   "metadata": {},
   "outputs": [
    {
     "name": "stdout",
     "output_type": "stream",
     "text": [
      "number of elements checked =  20\n",
      "False\n"
     ]
    }
   ],
   "source": [
    "# ii.  Search for the value 11 in the following array:\n",
    "A = [6, 19, -3, 5, 12, 7, 21, -8, 25, 10, 0, 28, -6, 1, 33, \n",
    "     18, 9, 2, -13, 43]\n",
    "print(sequential_search(A, 11)) #should return False"
   ]
  },
  {
   "cell_type": "code",
   "execution_count": 15,
   "metadata": {},
   "outputs": [
    {
     "name": "stdout",
     "output_type": "stream",
     "text": [
      "number of elements checked =  40\n",
      "False\n"
     ]
    }
   ],
   "source": [
    "#iii. Search for the value 11 in the following array:\n",
    "A = [6, 19, -3, 5, 12, 7, 21, -8, 25, 10, 0, 28, -6, 1, 33, \n",
    "     18, 9, 2, -13, 43, -15, 4, 22, 38, -5, 13, 23, -11, 29, \n",
    "     -20, 41, 31, -23, 35, 40, 14, 8, -18, 16, 36]\n",
    "print(sequential_search(A, 11)) #should return False"
   ]
  },
  {
   "cell_type": "markdown",
   "metadata": {},
   "source": [
    "### Sequential Search (ordered lists)  to count the number of elements checked during the search. "
   ]
  },
  {
   "cell_type": "markdown",
   "metadata": {},
   "source": [
    "First we have to sort out our list 'A' so that we can perform a Sequential Search on a ordered list"
   ]
  },
  {
   "cell_type": "code",
   "execution_count": 16,
   "metadata": {},
   "outputs": [
    {
     "name": "stdout",
     "output_type": "stream",
     "text": [
      "[-13, -8, -6, -3, 0, 1, 2, 5, 6, 7, 9, 10, 12, 18, 19, 21, 25, 28, 33, 43]\n"
     ]
    }
   ],
   "source": [
    "def bubbleSort(A):\n",
    "    for passnum in range(len(A)-1,0,-1):\n",
    "        for i in range(passnum):\n",
    "            if A[i]>A[i+1]:\n",
    "                temp = A[i]\n",
    "                A[i] = A[i+1]\n",
    "                A[i+1] = temp\n",
    "                \n",
    "A = [6, 19, -3, 5, 12, 7, 21, -8, 25, 10, 0, 28, \n",
    "     -6, 1, 33, 18, 9, 2, -13, 43]\n",
    " \n",
    "bubbleSort(A)\n",
    "print(A)\n"
   ]
  },
  {
   "cell_type": "code",
   "execution_count": 17,
   "metadata": {},
   "outputs": [],
   "source": [
    "def orderedSequentialSearch(A, item):\n",
    "    pos = 0\n",
    "    found = False\n",
    "    stop = False\n",
    "    count = 0\n",
    "\n",
    "    while pos < len(A) and not found and not stop:\n",
    "        if A[pos] == item:\n",
    "            found = True\n",
    "        else:\n",
    "            if A[pos] > item:\n",
    "                stop = True\n",
    "            else:\n",
    "                pos = pos+1\n",
    "        count += 1\n",
    "   \n",
    "    #print the count of number of elements checked.\n",
    "    print(\"number of elements checked is \", count)\n",
    "    return found"
   ]
  },
  {
   "cell_type": "code",
   "execution_count": 18,
   "metadata": {},
   "outputs": [
    {
     "name": "stdout",
     "output_type": "stream",
     "text": [
      "number of elements checked is  11\n",
      "True\n"
     ]
    }
   ],
   "source": [
    "#i. Search for the value 9 in the following array:\n",
    "A = [-13, -8, -6, -3, 0, 1, 2, 5, 6, 7, 9, 10, 12, 18, 19, 21, 25, \n",
    "     28, 33, 43]\n",
    "print(orderedSequentialSearch(A, 9)) "
   ]
  },
  {
   "cell_type": "code",
   "execution_count": 19,
   "metadata": {},
   "outputs": [
    {
     "name": "stdout",
     "output_type": "stream",
     "text": [
      "number of elements checked is  13\n",
      "False\n"
     ]
    }
   ],
   "source": [
    "#ii.  Search for the value 11 in the following array:\n",
    "A = [-13, -8, -6, -3, 0, 1, 2, 5, 6, 7, 9, 10, 12, 18, 19, 21, 25, \n",
    "     28, 33, 43]\n",
    "print(orderedSequentialSearch(A, 11)) #return False"
   ]
  },
  {
   "cell_type": "code",
   "execution_count": 20,
   "metadata": {},
   "outputs": [
    {
     "name": "stdout",
     "output_type": "stream",
     "text": [
      "number of elements checked is  21\n",
      "False\n"
     ]
    }
   ],
   "source": [
    "#iii. Search for the value 11 in the following array:\n",
    "A = [-23, -20, -18, -15, -13, -11, -8, -6, -5, -3, 0, 1, 2, 4, 5, \n",
    "     6, 7, 8, 9, 10, 12, 13, 14, 16, 18, 19, 21, 22, 23, 25, 28, \n",
    "     29, 31, 33, 35, 36, 38, 40, 41, 43]\n",
    "print(orderedSequentialSearch(A, 11)) #should return False"
   ]
  },
  {
   "cell_type": "markdown",
   "metadata": {},
   "source": [
    "Once more we need to sort the list as it has more values added in the list"
   ]
  },
  {
   "cell_type": "code",
   "execution_count": 21,
   "metadata": {},
   "outputs": [
    {
     "name": "stdout",
     "output_type": "stream",
     "text": [
      "[-23, -20, -18, -15, -13, -11, -8, -6, -5, -3, 0, 1, 2, 4, 5, 6, 7, 8, 9, 10, 12, 13, 14, 16, 18, 19, 21, 22, 23, 25, 28, 29, 31, 33, 35, 36, 38, 40, 41, 43]\n"
     ]
    }
   ],
   "source": [
    "def bubbleSort(A1):\n",
    "    for passnum in range(len(A1)-1,0,-1):\n",
    "        for i in range(passnum):\n",
    "            if A1[i]>A1[i+1]:\n",
    "                temp = A1[i]\n",
    "                A1[i] = A1[i+1]\n",
    "                A1[i+1] = temp\n",
    "                \n",
    "A1 = [6, 19, -3, 5, 12, 7, 21, -8, 25, 10, 0, 28, -6, 1, 33, 18, \n",
    "      9, 2, -13, 43, -15, 4, 22, 38, -5, 13, 23, -11, 29, -20, \n",
    "      41, 31, -23, 35, 40, 14, 8, -18, 16, 36]\n",
    " \n",
    "bubbleSort(A1)\n",
    "print(A1)"
   ]
  },
  {
   "cell_type": "code",
   "execution_count": 22,
   "metadata": {},
   "outputs": [
    {
     "name": "stdout",
     "output_type": "stream",
     "text": [
      "number of elements checked is  21\n",
      "False\n"
     ]
    }
   ],
   "source": [
    "# iii. Search for the value 11 in the following array:\n",
    "A_sorted = [-23, -20, -18, -15, -13, -11, -8, -6, -5, -3, 0, 1, 2, \n",
    "            4, 5, 6, 7, 8, 9, 10, 12, 13, 14, 16, 18, 19, 21, 22, \n",
    "            23, 25, 28, 29, 31, 33, 35, 36, 38, 40, 41, 43]\n",
    "print(orderedSequentialSearch(A_sorted, 11)) #return False"
   ]
  },
  {
   "cell_type": "markdown",
   "metadata": {},
   "source": [
    "### Binary Search to count the number of elements checked during the search. "
   ]
  },
  {
   "cell_type": "markdown",
   "metadata": {},
   "source": [
    "As we know, in binary search, we Search a sorted array by repeatedly dividing the search interval in half. So the first thing we going to do is use the sorted list"
   ]
  },
  {
   "cell_type": "code",
   "execution_count": 23,
   "metadata": {},
   "outputs": [],
   "source": [
    "def binarySearch(array, value):\n",
    "    array = sorted(array)\n",
    "    first = 0\n",
    "    last = len(array) - 1\n",
    "    count = 0\n",
    "    \n",
    "    while first <= last:\n",
    "        midIndex = (first + last) // 2\n",
    "        midValue = array[midIndex]\n",
    "        \n",
    "        if value == midValue:\n",
    "            return True\n",
    "        if value < midValue:\n",
    "            last = midIndex - 1\n",
    "        if value > midValue:\n",
    "            first = midIndex + 1\n",
    "            count += 1\n",
    "            \n",
    "    print(\"number of elements checked is \", count)\n",
    "    return False"
   ]
  },
  {
   "cell_type": "code",
   "execution_count": 24,
   "metadata": {},
   "outputs": [
    {
     "name": "stdout",
     "output_type": "stream",
     "text": [
      "True\n"
     ]
    }
   ],
   "source": [
    "#i. Search for the value 9 in the following array:\n",
    "A = [-13, -8, -6, -3, 0, 1, 2, 5, 6, 7, 9, 10, 12, 18, 19, 21, 25, \n",
    "     28, 33, 43]\n",
    "print(binarySearch(A, 9)) #Should return True"
   ]
  },
  {
   "cell_type": "code",
   "execution_count": 25,
   "metadata": {},
   "outputs": [
    {
     "name": "stdout",
     "output_type": "stream",
     "text": [
      "number of elements checked is  2\n",
      "False\n"
     ]
    }
   ],
   "source": [
    "#ii.  Search for the value 11 in the following array:\n",
    "A = [-13, -8, -6, -3, 0, 1, 2, 5, 6, 7, 9, 10, 12, 18, 19, 21, 25, \n",
    "     28, 33, 43]\n",
    "print(binarySearch(A, 11)) #Should return False"
   ]
  },
  {
   "cell_type": "code",
   "execution_count": 26,
   "metadata": {},
   "outputs": [
    {
     "name": "stdout",
     "output_type": "stream",
     "text": [
      "number of elements checked is  1\n",
      "False\n"
     ]
    }
   ],
   "source": [
    "# iii. Search for the value 11 in the following array:\n",
    "A = [-23, -20, -18, -15, -13, -11, -8, -6, -5, -3, 0, 1, 2, \n",
    "            4, 5, 6, 7, 8, 9, 10, 12, 13, 14, 16, 18, 19, 21, 22, \n",
    "            23, 25, 28, 29, 31, 33, 35, 36, 38, 40, 41, 43]\n",
    "print(binarySearch(A, 11)) #Should return False"
   ]
  },
  {
   "cell_type": "markdown",
   "metadata": {},
   "source": [
    "### Benchmark analysis using Merge sort, Quick sort, Bubble sort and Selection sort \n",
    "\n",
    "###### So what is Merge Sort?\n",
    "Merge sort is a perfectly elegant example of a Divide and Conquer algorithm. It simple uses the 2 main steps of such an algorithm:\n",
    "\n",
    "(1) Continuously divide the unsorted list until you have N sublists, where each sublist has 1 element that is “unsorted” and N is the number of elements in the original array.\n",
    "\n",
    "(2) Repeatedly merge i.e conquer the sublists together 2 at a time to produce new sorted sublists until all elements have been fully merged into a single sorted array.\n",
    "\n",
    "\n",
    "###### What is Quick Sort?\n",
    "Quick sort is also a divide and conquer algorithm like merge sort. Although it’s a bit more complicated, in most standard implementations it performs significantly faster than merge sort and rarely reaches its worst case complexity of O(n²). It has 3 main steps:\n",
    "\n",
    "(1) We first select an element which we will call the pivot from the array.\n",
    "\n",
    "(2) Move all elements that are smaller than the pivot to the left of the pivot; move all elements that are larger than the pivot to the right of the pivot. This is called the partition operation.\n",
    "\n",
    "(3) Recursively apply the above 2 steps separately to each of the sub-arrays of elements with smaller and bigger values than the last pivot."
   ]
  },
  {
   "cell_type": "code",
   "execution_count": 27,
   "metadata": {
    "scrolled": true
   },
   "outputs": [
    {
     "name": "stdout",
     "output_type": "stream",
     "text": [
      "[3, 43, 85, 26, 70, 10, 79, 34, 25, 39, 99, 91, 9, 13, 67, 46, 7, 55, 83, 8, 32, 29, 57, 19, 45, 92, 87, 38, 94, 2, 5, 61, 27, 82, 54, 16, 17, 68, 63, 80, 15, 47, 30, 48, 41, 90, 88, 40, 36, 84]\n"
     ]
    }
   ],
   "source": [
    "rand_int50 = random.sample(range(100), 50)\n",
    "print(rand_int50)"
   ]
  },
  {
   "cell_type": "code",
   "execution_count": 28,
   "metadata": {},
   "outputs": [
    {
     "name": "stdout",
     "output_type": "stream",
     "text": [
      "[594, 934, 578, 370, 222, 445, 452, 387, 525, 375, 691, 864, 645, 520, 782, 37, 51, 381, 768, 499, 800, 852, 699, 683, 695, 847, 415, 689, 865, 80, 71, 256, 179, 674, 420, 963, 530, 46, 952, 671, 288, 282, 747, 277, 280, 156, 615, 342, 134, 236, 220, 224, 27, 463, 266, 560, 147, 687, 25, 576, 195, 191, 189, 340, 611, 715, 693, 211, 590, 503, 132, 294, 665, 57, 898, 543, 612, 643, 142, 68, 186, 507, 373, 734, 369, 65, 890, 793, 659, 130, 781, 836, 401, 574, 949, 748, 290, 225, 759, 449, 144, 312, 400, 894, 622, 572, 833, 164, 339, 767, 987, 964, 228, 309, 84, 508, 416, 958, 705, 804, 727, 738, 947, 424, 755, 398, 568, 483, 778, 548, 43, 638, 54, 307, 889, 602, 470, 848, 920, 764, 41, 772, 938, 166, 462, 364, 486, 249, 563, 775, 599, 316, 176, 418, 924, 721, 741, 223, 917, 874, 618, 935, 606, 784, 430, 159, 235, 66, 230, 577, 730, 941, 515, 706, 861, 104, 707, 366, 126, 702, 112, 774, 485, 986, 252, 500, 91, 461, 902, 182, 661, 760, 922, 799, 811, 571, 47, 632, 350, 526, 994, 813, 271, 636, 846, 608, 372, 353, 385, 991, 628, 928, 834, 918, 535, 629, 910, 740, 469, 389, 569, 982, 887, 432, 729, 639, 808, 855, 337, 791, 405, 344, 93, 36, 795, 966, 872, 242, 553, 31, 818, 6, 552, 879, 538, 960, 205, 582, 603, 819, 124, 766, 981, 13, 803, 773, 817, 977, 97, 633, 319, 419, 739, 11, 45, 268, 897, 407, 214, 116, 566, 466, 886, 329, 904, 114, 497, 648, 237, 446, 250, 64, 839, 731, 304, 926, 172, 794, 221, 207, 866, 209, 243, 792, 770, 284, 796, 529, 875, 970, 703, 233, 728, 620, 838, 136, 102, 969, 581, 657, 56, 881, 519, 14, 95, 49, 587, 408, 203, 765, 745, 212, 891, 972, 940, 726, 913, 330, 932, 946, 145, 455, 317, 906, 976, 859, 348, 658, 477, 360, 475, 762, 518, 443, 626, 534, 327, 171, 957, 812, 362, 272, 664, 83, 196, 301, 911, 246, 692, 34, 412, 844, 609, 528, 251, 281, 807, 978, 386, 564, 523, 892, 161, 174, 488, 870, 107, 50, 850, 763, 135, 324, 55, 75, 117, 542, 74, 267, 128, 491, 379, 334, 997, 899, 123, 168, 816, 457, 820, 828, 725, 504, 150, 292, 644, 442, 28, 541, 355, 96, 654, 580, 472, 52, 78, 421, 60, 422, 89, 460, 583, 884, 263, 258, 809, 382, 761, 681, 556, 138, 547, 862, 436, 640, 384, 510, 714, 484, 229, 105, 476, 971, 998, 62, 343, 219, 842, 851, 790, 0, 310, 204, 742, 634, 490, 718, 843, 77, 433, 539, 965, 883, 169, 907, 605, 218, 110, 513, 106, 858, 39, 621, 915, 414, 302, 943, 723, 999, 537, 995, 732, 482, 919, 711, 397, 190, 588, 314, 2, 942, 473, 194, 527, 285, 975, 119, 868, 351, 933, 175, 120, 502, 361, 478, 320, 697, 801, 837, 493, 956, 325, 945, 254, 393, 546, 20, 717, 359, 300, 178, 650, 688, 458, 184, 752, 561, 769, 286, 719, 708, 914, 215, 245, 331, 905, 930, 270, 3, 788, 757, 8, 453, 925, 558, 754, 625, 670, 238, 565, 647, 18, 127, 613, 826, 631, 869, 63, 704, 584, 459, 111, 936, 959, 10, 265, 756, 326, 950, 17, 347, 857, 974, 257, 663, 98, 90, 435, 827, 437, 287, 789, 403, 73, 710, 253, 151, 61, 746, 438, 876, 335, 345, 308, 129, 180, 427, 777, 30, 244, 512, 24, 275, 953, 651, 354, 428, 931, 531, 901, 402, 733, 210, 295, 937, 888, 700, 197, 662, 22, 417, 148, 992, 165, 984, 274, 871, 660, 216, 735, 133, 682, 596, 115, 368, 600, 42, 177, 239, 293, 157, 713, 152, 944, 744, 32, 155, 321, 79, 82, 860, 481, 840, 336, 76, 450, 200, 895, 815, 378, 724, 349, 59, 893, 404, 296, 514, 736, 283, 318, 202, 758, 297, 656, 365, 86, 749, 720, 973, 863, 392, 367, 797, 822, 81, 505, 69, 213, 533, 646, 299, 464, 985, 456, 26, 573, 927, 592, 40, 121, 103, 737, 100, 607, 751, 413, 208, 269, 498, 12, 468, 141, 988, 954, 113, 44, 831, 557, 802, 900, 305, 672, 570, 679, 511, 979, 289, 448, 675, 624, 391, 380, 825, 278, 479, 38, 101, 199, 471, 903, 29, 279, 193, 298, 1, 160, 677, 16, 181, 149, 655, 94, 637, 522, 248, 465, 923, 867, 641, 15, 352, 409, 240, 88, 880, 58, 390, 434, 676, 787, 4, 567, 524, 173, 396, 377, 185, 429, 652, 227, 163, 226, 261, 338, 579, 536, 614, 341, 562, 743, 532, 406, 948, 506, 303, 333, 201, 260, 968, 454, 696, 447, 627, 92, 5, 990, 806, 555, 108, 619, 259, 909, 593, 487, 701, 72, 167, 805, 635, 575, 642, 501, 395, 698, 439, 87, 70, 188, 363, 492, 690, 623, 785, 19, 234, 431, 885, 255, 989, 48, 586, 798, 845, 776, 162, 939, 451, 912, 830, 131, 680, 653, 853, 951, 139, 814, 709, 550, 686, 143, 750, 232, 821, 291, 585, 137, 441, 916, 841, 673, 495, 444, 85, 425, 877, 810, 198, 306, 540, 961, 824, 399, 873, 666, 311, 357, 955, 896, 118, 591, 669, 849, 854, 264, 829, 684, 551, 217, 187, 496, 694, 323, 99, 668, 158, 206, 154, 183, 882, 716, 983, 374, 440, 7, 35, 554, 410, 544, 678, 617, 993, 712, 753, 67, 388, 315, 832, 549, 423, 262, 856, 53, 376, 908, 494, 649, 192, 328, 356, 786, 467, 783, 722, 610, 595, 967, 109, 332, 411, 358, 146, 962, 125, 780, 601, 371, 604, 509, 153, 21, 616, 474, 630, 276, 346, 929, 33, 878, 426, 322, 921, 241, 313, 23, 980, 9, 122, 597, 835, 589, 545, 231, 383, 480, 170, 996, 685, 247, 667, 598, 516, 823, 140, 517, 559, 489, 521, 779, 394, 771, 273]\n"
     ]
    }
   ],
   "source": [
    "rand_int1000 = random.sample(range(1000), 1000)\n",
    "print(rand_int1000)"
   ]
  },
  {
   "cell_type": "markdown",
   "metadata": {},
   "source": [
    "###### Merge Sort"
   ]
  },
  {
   "cell_type": "code",
   "execution_count": 29,
   "metadata": {},
   "outputs": [
    {
     "name": "stdout",
     "output_type": "stream",
     "text": [
      "[1, 3, 5, 6, 7, 10, 11, 13, 16, 17, 20, 21, 25, 27, 29, 30, 33, 37, 38, 39, 41, 42, 45, 46, 49, 50, 54, 55, 56, 58, 59, 60, 67, 71, 72, 74, 75, 76, 82, 83, 85, 86, 87, 88, 89, 90, 91, 95, 96, 98]\n"
     ]
    }
   ],
   "source": [
    "def merge(left_list, right_list):\n",
    "    sorted_list = []\n",
    "    left_list_index = right_list_index = 0\n",
    "\n",
    "    # We use the list lengths often, so its handy to make variables\n",
    "    left_list_length, right_list_length = len(left_list), len(right_list)\n",
    "\n",
    "    for _ in range(left_list_length + right_list_length):\n",
    "        if left_list_index < left_list_length and right_list_index < right_list_length:\n",
    "            # We check which value from the start of each list is smaller\n",
    "            # If the item at the beginning of the left list is smaller, add it\n",
    "            # to the sorted list\n",
    "            if left_list[left_list_index] <= right_list[right_list_index]:\n",
    "                sorted_list.append(left_list[left_list_index])\n",
    "                left_list_index += 1\n",
    "            # If the item at the beginning of the right list is smaller, add it\n",
    "            # to the sorted list\n",
    "            else:\n",
    "                sorted_list.append(right_list[right_list_index])\n",
    "                right_list_index += 1\n",
    "\n",
    "        # If we've reached the end of the of the left list, add the elements\n",
    "        # from the right list\n",
    "        elif left_list_index == left_list_length:\n",
    "            sorted_list.append(right_list[right_list_index])\n",
    "            right_list_index += 1\n",
    "        # If we've reached the end of the of the right list, add the elements\n",
    "        # from the left list\n",
    "        elif right_list_index == right_list_length:\n",
    "            sorted_list.append(left_list[left_list_index])\n",
    "            left_list_index += 1\n",
    "\n",
    "    return sorted_list\n",
    "\n",
    "\n",
    "def merge_sort(nums):\n",
    "    # If the list is a single element, return it\n",
    "    if len(nums) <= 1:\n",
    "        return nums\n",
    "\n",
    "    # Use floor division to get midpoint, indices must be integers\n",
    "    mid = len(nums) // 2\n",
    "    \n",
    "    # Sort and merge each half\n",
    "    left_list = merge_sort(nums[:mid])\n",
    "    right_list = merge_sort(nums[mid:])\n",
    "\n",
    "    # Merge the sorted lists into a new one\n",
    "    return merge(left_list, right_list)\n",
    "\n",
    "\n",
    "# Verify it works\n",
    "rand_int50 = random.sample(range(100), 50)\n",
    "rand_int1000 = random.sample(range(1000), 1000)\n",
    "random_list_of_nums50 = merge_sort(rand_int50)\n",
    "print(random_list_of_nums50)"
   ]
  },
  {
   "cell_type": "code",
   "execution_count": 30,
   "metadata": {},
   "outputs": [
    {
     "name": "stdout",
     "output_type": "stream",
     "text": [
      "[0, 1, 2, 3, 4, 5, 6, 7, 8, 9, 10, 11, 12, 13, 14, 15, 16, 17, 18, 19, 20, 21, 22, 23, 24, 25, 26, 27, 28, 29, 30, 31, 32, 33, 34, 35, 36, 37, 38, 39, 40, 41, 42, 43, 44, 45, 46, 47, 48, 49, 50, 51, 52, 53, 54, 55, 56, 57, 58, 59, 60, 61, 62, 63, 64, 65, 66, 67, 68, 69, 70, 71, 72, 73, 74, 75, 76, 77, 78, 79, 80, 81, 82, 83, 84, 85, 86, 87, 88, 89, 90, 91, 92, 93, 94, 95, 96, 97, 98, 99, 100, 101, 102, 103, 104, 105, 106, 107, 108, 109, 110, 111, 112, 113, 114, 115, 116, 117, 118, 119, 120, 121, 122, 123, 124, 125, 126, 127, 128, 129, 130, 131, 132, 133, 134, 135, 136, 137, 138, 139, 140, 141, 142, 143, 144, 145, 146, 147, 148, 149, 150, 151, 152, 153, 154, 155, 156, 157, 158, 159, 160, 161, 162, 163, 164, 165, 166, 167, 168, 169, 170, 171, 172, 173, 174, 175, 176, 177, 178, 179, 180, 181, 182, 183, 184, 185, 186, 187, 188, 189, 190, 191, 192, 193, 194, 195, 196, 197, 198, 199, 200, 201, 202, 203, 204, 205, 206, 207, 208, 209, 210, 211, 212, 213, 214, 215, 216, 217, 218, 219, 220, 221, 222, 223, 224, 225, 226, 227, 228, 229, 230, 231, 232, 233, 234, 235, 236, 237, 238, 239, 240, 241, 242, 243, 244, 245, 246, 247, 248, 249, 250, 251, 252, 253, 254, 255, 256, 257, 258, 259, 260, 261, 262, 263, 264, 265, 266, 267, 268, 269, 270, 271, 272, 273, 274, 275, 276, 277, 278, 279, 280, 281, 282, 283, 284, 285, 286, 287, 288, 289, 290, 291, 292, 293, 294, 295, 296, 297, 298, 299, 300, 301, 302, 303, 304, 305, 306, 307, 308, 309, 310, 311, 312, 313, 314, 315, 316, 317, 318, 319, 320, 321, 322, 323, 324, 325, 326, 327, 328, 329, 330, 331, 332, 333, 334, 335, 336, 337, 338, 339, 340, 341, 342, 343, 344, 345, 346, 347, 348, 349, 350, 351, 352, 353, 354, 355, 356, 357, 358, 359, 360, 361, 362, 363, 364, 365, 366, 367, 368, 369, 370, 371, 372, 373, 374, 375, 376, 377, 378, 379, 380, 381, 382, 383, 384, 385, 386, 387, 388, 389, 390, 391, 392, 393, 394, 395, 396, 397, 398, 399, 400, 401, 402, 403, 404, 405, 406, 407, 408, 409, 410, 411, 412, 413, 414, 415, 416, 417, 418, 419, 420, 421, 422, 423, 424, 425, 426, 427, 428, 429, 430, 431, 432, 433, 434, 435, 436, 437, 438, 439, 440, 441, 442, 443, 444, 445, 446, 447, 448, 449, 450, 451, 452, 453, 454, 455, 456, 457, 458, 459, 460, 461, 462, 463, 464, 465, 466, 467, 468, 469, 470, 471, 472, 473, 474, 475, 476, 477, 478, 479, 480, 481, 482, 483, 484, 485, 486, 487, 488, 489, 490, 491, 492, 493, 494, 495, 496, 497, 498, 499, 500, 501, 502, 503, 504, 505, 506, 507, 508, 509, 510, 511, 512, 513, 514, 515, 516, 517, 518, 519, 520, 521, 522, 523, 524, 525, 526, 527, 528, 529, 530, 531, 532, 533, 534, 535, 536, 537, 538, 539, 540, 541, 542, 543, 544, 545, 546, 547, 548, 549, 550, 551, 552, 553, 554, 555, 556, 557, 558, 559, 560, 561, 562, 563, 564, 565, 566, 567, 568, 569, 570, 571, 572, 573, 574, 575, 576, 577, 578, 579, 580, 581, 582, 583, 584, 585, 586, 587, 588, 589, 590, 591, 592, 593, 594, 595, 596, 597, 598, 599, 600, 601, 602, 603, 604, 605, 606, 607, 608, 609, 610, 611, 612, 613, 614, 615, 616, 617, 618, 619, 620, 621, 622, 623, 624, 625, 626, 627, 628, 629, 630, 631, 632, 633, 634, 635, 636, 637, 638, 639, 640, 641, 642, 643, 644, 645, 646, 647, 648, 649, 650, 651, 652, 653, 654, 655, 656, 657, 658, 659, 660, 661, 662, 663, 664, 665, 666, 667, 668, 669, 670, 671, 672, 673, 674, 675, 676, 677, 678, 679, 680, 681, 682, 683, 684, 685, 686, 687, 688, 689, 690, 691, 692, 693, 694, 695, 696, 697, 698, 699, 700, 701, 702, 703, 704, 705, 706, 707, 708, 709, 710, 711, 712, 713, 714, 715, 716, 717, 718, 719, 720, 721, 722, 723, 724, 725, 726, 727, 728, 729, 730, 731, 732, 733, 734, 735, 736, 737, 738, 739, 740, 741, 742, 743, 744, 745, 746, 747, 748, 749, 750, 751, 752, 753, 754, 755, 756, 757, 758, 759, 760, 761, 762, 763, 764, 765, 766, 767, 768, 769, 770, 771, 772, 773, 774, 775, 776, 777, 778, 779, 780, 781, 782, 783, 784, 785, 786, 787, 788, 789, 790, 791, 792, 793, 794, 795, 796, 797, 798, 799, 800, 801, 802, 803, 804, 805, 806, 807, 808, 809, 810, 811, 812, 813, 814, 815, 816, 817, 818, 819, 820, 821, 822, 823, 824, 825, 826, 827, 828, 829, 830, 831, 832, 833, 834, 835, 836, 837, 838, 839, 840, 841, 842, 843, 844, 845, 846, 847, 848, 849, 850, 851, 852, 853, 854, 855, 856, 857, 858, 859, 860, 861, 862, 863, 864, 865, 866, 867, 868, 869, 870, 871, 872, 873, 874, 875, 876, 877, 878, 879, 880, 881, 882, 883, 884, 885, 886, 887, 888, 889, 890, 891, 892, 893, 894, 895, 896, 897, 898, 899, 900, 901, 902, 903, 904, 905, 906, 907, 908, 909, 910, 911, 912, 913, 914, 915, 916, 917, 918, 919, 920, 921, 922, 923, 924, 925, 926, 927, 928, 929, 930, 931, 932, 933, 934, 935, 936, 937, 938, 939, 940, 941, 942, 943, 944, 945, 946, 947, 948, 949, 950, 951, 952, 953, 954, 955, 956, 957, 958, 959, 960, 961, 962, 963, 964, 965, 966, 967, 968, 969, 970, 971, 972, 973, 974, 975, 976, 977, 978, 979, 980, 981, 982, 983, 984, 985, 986, 987, 988, 989, 990, 991, 992, 993, 994, 995, 996, 997, 998, 999]\n"
     ]
    }
   ],
   "source": [
    "random_list_of_nums1000 = merge_sort(rand_int1000)\n",
    "print(random_list_of_nums1000)"
   ]
  },
  {
   "cell_type": "markdown",
   "metadata": {},
   "source": [
    "###### Quick Sort"
   ]
  },
  {
   "cell_type": "code",
   "execution_count": 31,
   "metadata": {},
   "outputs": [
    {
     "name": "stdout",
     "output_type": "stream",
     "text": [
      "[0, 1, 3, 4, 6, 7, 9, 10, 11, 12, 14, 17, 21, 22, 23, 26, 27, 28, 30, 31, 35, 37, 38, 41, 43, 44, 48, 50, 51, 53, 57, 58, 64, 65, 71, 73, 76, 77, 78, 79, 82, 83, 85, 87, 90, 93, 95, 96, 98, 99]\n"
     ]
    }
   ],
   "source": [
    "# There are different ways to do a Quick Sort partition, this implements the\n",
    "# Hoare partition scheme. \n",
    "def partition(nums, low, high):\n",
    "    # We select the middle element to be the pivot. Some implementations select\n",
    "    # the first element or the last element. Sometimes the median value becomes\n",
    "    # the pivot, or a random one. There are many more strategies that can be\n",
    "    # chosen or created.\n",
    "    pivot = nums[(low + high) // 2]\n",
    "    i = low - 1\n",
    "    j = high + 1\n",
    "    while True:\n",
    "        i += 1\n",
    "        while nums[i] < pivot:\n",
    "            i += 1\n",
    "\n",
    "        j -= 1\n",
    "        while nums[j] > pivot:\n",
    "            j -= 1\n",
    "\n",
    "        if i >= j:\n",
    "            return j\n",
    "\n",
    "        # If an element at i (on the left of the pivot) is larger than the\n",
    "        # element at j (on right right of the pivot), then swap them\n",
    "        nums[i], nums[j] = nums[j], nums[i]\n",
    "\n",
    "\n",
    "def quick_sort(nums):\n",
    "    # Create a helper function that will be called recursively\n",
    "    def _quick_sort(items, low, high):\n",
    "        if low < high:\n",
    "            # This is the index after the pivot, where our lists are split\n",
    "            split_index = partition(items, low, high)\n",
    "            _quick_sort(items, low, split_index)\n",
    "            _quick_sort(items, split_index + 1, high)\n",
    "\n",
    "    _quick_sort(nums, 0, len(nums) - 1)\n",
    "\n",
    "\n",
    "# Verify it works\n",
    "rand_int50 = random.sample(range(100), 50)\n",
    "quick_sort(rand_int50)\n",
    "print(rand_int50)"
   ]
  },
  {
   "cell_type": "code",
   "execution_count": 32,
   "metadata": {},
   "outputs": [
    {
     "name": "stdout",
     "output_type": "stream",
     "text": [
      "[0, 1, 2, 3, 4, 5, 6, 7, 8, 9, 10, 11, 12, 13, 14, 15, 16, 17, 18, 19, 20, 21, 22, 23, 24, 25, 26, 27, 28, 29, 30, 31, 32, 33, 34, 35, 36, 37, 38, 39, 40, 41, 42, 43, 44, 45, 46, 47, 48, 49, 50, 51, 52, 53, 54, 55, 56, 57, 58, 59, 60, 61, 62, 63, 64, 65, 66, 67, 68, 69, 70, 71, 72, 73, 74, 75, 76, 77, 78, 79, 80, 81, 82, 83, 84, 85, 86, 87, 88, 89, 90, 91, 92, 93, 94, 95, 96, 97, 98, 99, 100, 101, 102, 103, 104, 105, 106, 107, 108, 109, 110, 111, 112, 113, 114, 115, 116, 117, 118, 119, 120, 121, 122, 123, 124, 125, 126, 127, 128, 129, 130, 131, 132, 133, 134, 135, 136, 137, 138, 139, 140, 141, 142, 143, 144, 145, 146, 147, 148, 149, 150, 151, 152, 153, 154, 155, 156, 157, 158, 159, 160, 161, 162, 163, 164, 165, 166, 167, 168, 169, 170, 171, 172, 173, 174, 175, 176, 177, 178, 179, 180, 181, 182, 183, 184, 185, 186, 187, 188, 189, 190, 191, 192, 193, 194, 195, 196, 197, 198, 199, 200, 201, 202, 203, 204, 205, 206, 207, 208, 209, 210, 211, 212, 213, 214, 215, 216, 217, 218, 219, 220, 221, 222, 223, 224, 225, 226, 227, 228, 229, 230, 231, 232, 233, 234, 235, 236, 237, 238, 239, 240, 241, 242, 243, 244, 245, 246, 247, 248, 249, 250, 251, 252, 253, 254, 255, 256, 257, 258, 259, 260, 261, 262, 263, 264, 265, 266, 267, 268, 269, 270, 271, 272, 273, 274, 275, 276, 277, 278, 279, 280, 281, 282, 283, 284, 285, 286, 287, 288, 289, 290, 291, 292, 293, 294, 295, 296, 297, 298, 299, 300, 301, 302, 303, 304, 305, 306, 307, 308, 309, 310, 311, 312, 313, 314, 315, 316, 317, 318, 319, 320, 321, 322, 323, 324, 325, 326, 327, 328, 329, 330, 331, 332, 333, 334, 335, 336, 337, 338, 339, 340, 341, 342, 343, 344, 345, 346, 347, 348, 349, 350, 351, 352, 353, 354, 355, 356, 357, 358, 359, 360, 361, 362, 363, 364, 365, 366, 367, 368, 369, 370, 371, 372, 373, 374, 375, 376, 377, 378, 379, 380, 381, 382, 383, 384, 385, 386, 387, 388, 389, 390, 391, 392, 393, 394, 395, 396, 397, 398, 399, 400, 401, 402, 403, 404, 405, 406, 407, 408, 409, 410, 411, 412, 413, 414, 415, 416, 417, 418, 419, 420, 421, 422, 423, 424, 425, 426, 427, 428, 429, 430, 431, 432, 433, 434, 435, 436, 437, 438, 439, 440, 441, 442, 443, 444, 445, 446, 447, 448, 449, 450, 451, 452, 453, 454, 455, 456, 457, 458, 459, 460, 461, 462, 463, 464, 465, 466, 467, 468, 469, 470, 471, 472, 473, 474, 475, 476, 477, 478, 479, 480, 481, 482, 483, 484, 485, 486, 487, 488, 489, 490, 491, 492, 493, 494, 495, 496, 497, 498, 499, 500, 501, 502, 503, 504, 505, 506, 507, 508, 509, 510, 511, 512, 513, 514, 515, 516, 517, 518, 519, 520, 521, 522, 523, 524, 525, 526, 527, 528, 529, 530, 531, 532, 533, 534, 535, 536, 537, 538, 539, 540, 541, 542, 543, 544, 545, 546, 547, 548, 549, 550, 551, 552, 553, 554, 555, 556, 557, 558, 559, 560, 561, 562, 563, 564, 565, 566, 567, 568, 569, 570, 571, 572, 573, 574, 575, 576, 577, 578, 579, 580, 581, 582, 583, 584, 585, 586, 587, 588, 589, 590, 591, 592, 593, 594, 595, 596, 597, 598, 599, 600, 601, 602, 603, 604, 605, 606, 607, 608, 609, 610, 611, 612, 613, 614, 615, 616, 617, 618, 619, 620, 621, 622, 623, 624, 625, 626, 627, 628, 629, 630, 631, 632, 633, 634, 635, 636, 637, 638, 639, 640, 641, 642, 643, 644, 645, 646, 647, 648, 649, 650, 651, 652, 653, 654, 655, 656, 657, 658, 659, 660, 661, 662, 663, 664, 665, 666, 667, 668, 669, 670, 671, 672, 673, 674, 675, 676, 677, 678, 679, 680, 681, 682, 683, 684, 685, 686, 687, 688, 689, 690, 691, 692, 693, 694, 695, 696, 697, 698, 699, 700, 701, 702, 703, 704, 705, 706, 707, 708, 709, 710, 711, 712, 713, 714, 715, 716, 717, 718, 719, 720, 721, 722, 723, 724, 725, 726, 727, 728, 729, 730, 731, 732, 733, 734, 735, 736, 737, 738, 739, 740, 741, 742, 743, 744, 745, 746, 747, 748, 749, 750, 751, 752, 753, 754, 755, 756, 757, 758, 759, 760, 761, 762, 763, 764, 765, 766, 767, 768, 769, 770, 771, 772, 773, 774, 775, 776, 777, 778, 779, 780, 781, 782, 783, 784, 785, 786, 787, 788, 789, 790, 791, 792, 793, 794, 795, 796, 797, 798, 799, 800, 801, 802, 803, 804, 805, 806, 807, 808, 809, 810, 811, 812, 813, 814, 815, 816, 817, 818, 819, 820, 821, 822, 823, 824, 825, 826, 827, 828, 829, 830, 831, 832, 833, 834, 835, 836, 837, 838, 839, 840, 841, 842, 843, 844, 845, 846, 847, 848, 849, 850, 851, 852, 853, 854, 855, 856, 857, 858, 859, 860, 861, 862, 863, 864, 865, 866, 867, 868, 869, 870, 871, 872, 873, 874, 875, 876, 877, 878, 879, 880, 881, 882, 883, 884, 885, 886, 887, 888, 889, 890, 891, 892, 893, 894, 895, 896, 897, 898, 899, 900, 901, 902, 903, 904, 905, 906, 907, 908, 909, 910, 911, 912, 913, 914, 915, 916, 917, 918, 919, 920, 921, 922, 923, 924, 925, 926, 927, 928, 929, 930, 931, 932, 933, 934, 935, 936, 937, 938, 939, 940, 941, 942, 943, 944, 945, 946, 947, 948, 949, 950, 951, 952, 953, 954, 955, 956, 957, 958, 959, 960, 961, 962, 963, 964, 965, 966, 967, 968, 969, 970, 971, 972, 973, 974, 975, 976, 977, 978, 979, 980, 981, 982, 983, 984, 985, 986, 987, 988, 989, 990, 991, 992, 993, 994, 995, 996, 997, 998, 999]\n"
     ]
    }
   ],
   "source": [
    "rand_int1000 = random.sample(range(1000), 1000)\n",
    "quick_sort(rand_int1000)\n",
    "print(rand_int1000)"
   ]
  },
  {
   "cell_type": "markdown",
   "metadata": {},
   "source": [
    "### The Execution Speed Comparisons between the different sorting techniques"
   ]
  },
  {
   "cell_type": "code",
   "execution_count": 33,
   "metadata": {},
   "outputs": [
    {
     "name": "stdout",
     "output_type": "stream",
     "text": [
      "Time to sort 50 random ints with mergesort = 0.000176 seconds\n",
      "Time to sort 1000 random ints with mergesort = 0.004695 seconds\n"
     ]
    }
   ],
   "source": [
    "#merge sort speed\n",
    "\n",
    "MSrand_int50 = timeit.Timer(lambda: merge_sort(rand_int50)).timeit(number=1)\n",
    "MSrand_int1000 = timeit.Timer(lambda: merge_sort(rand_int1000)).timeit(number=1)\n",
    "\n",
    "print('Time to sort 50 random ints with mergesort = %f seconds' % MSrand_int50)\n",
    "print('Time to sort 1000 random ints with mergesort = %f seconds' % MSrand_int1000 )"
   ]
  },
  {
   "cell_type": "code",
   "execution_count": 34,
   "metadata": {},
   "outputs": [
    {
     "name": "stdout",
     "output_type": "stream",
     "text": [
      "Time to sort 50 random ints with quick sort = 0.000084 seconds\n",
      "Time to sort 1000 random ints with quick sort = 0.002094 seconds\n"
     ]
    }
   ],
   "source": [
    "# quick sort speed\n",
    "QSrand_int50 = timeit.Timer(lambda: quick_sort(rand_int50)).timeit(number=1)\n",
    "QSrand_int1000 = timeit.Timer(lambda: quick_sort(rand_int1000)).timeit(number=1)\n",
    "\n",
    "print('Time to sort 50 random ints with quick sort = %f seconds' % QSrand_int50)\n",
    "print('Time to sort 1000 random ints with quick sort = %f seconds' % QSrand_int1000 )"
   ]
  },
  {
   "cell_type": "code",
   "execution_count": 35,
   "metadata": {},
   "outputs": [
    {
     "name": "stdout",
     "output_type": "stream",
     "text": [
      "Time to sort 50 random ints with bubble sort = 0.000165 seconds\n",
      "Time to sort 1000 random ints with bubble sort = 0.070704 seconds\n"
     ]
    }
   ],
   "source": [
    "# bubble sort speed\n",
    "BSrand_int50 = timeit.Timer(lambda: bubbleSort(rand_int50)).timeit(number=1)\n",
    "BSrand_int1000 = timeit.Timer(lambda: bubbleSort(rand_int1000)).timeit(number=1)\n",
    "\n",
    "print('Time to sort 50 random ints with bubble sort = %f seconds' % BSrand_int50)\n",
    "print('Time to sort 1000 random ints with bubble sort = %f seconds' % BSrand_int1000 )"
   ]
  },
  {
   "cell_type": "code",
   "execution_count": 36,
   "metadata": {},
   "outputs": [
    {
     "name": "stdout",
     "output_type": "stream",
     "text": [
      "Time to sort 50 random ints with selection sort = 0.000163 seconds\n",
      "Time to sort 1000 random ints with selection sort = 0.057237 seconds\n"
     ]
    }
   ],
   "source": [
    "# selection sort speed\n",
    "SSrand_int50 = timeit.Timer(lambda: selectionSort(rand_int50)).timeit(number=1)\n",
    "SSrand_int1000 = timeit.Timer(lambda: selectionSort(rand_int1000)).timeit(number=1)\n",
    "\n",
    "print('Time to sort 50 random ints with selection sort = %f seconds' % SSrand_int50)\n",
    "print('Time to sort 1000 random ints with selection sort = %f seconds' % SSrand_int1000 )"
   ]
  },
  {
   "cell_type": "markdown",
   "metadata": {},
   "source": [
    "# Conclusion\n",
    "\n",
    "Sorting algorithms gives us many ways to order our data. We looked at 4 different algorithms - Bubble Sort, Selection Sort, Merge Sort and Quick Sort - as well as their implementations in Python.\n",
    "\n",
    "The amount of comparison and swaps the algorithm performs along with the environment the code runs are key determinants of performance. And with observations from the outputted times it is very much visible that **Quick Sort**  was indeed the quickest with a runtime of 0.000098 seconds for 50 random numbers and 0.002078 seconds for 1000 random numbers."
   ]
  }
 ],
 "metadata": {
  "kernelspec": {
   "display_name": "Python 3",
   "language": "python",
   "name": "python3"
  },
  "language_info": {
   "codemirror_mode": {
    "name": "ipython",
    "version": 3
   },
   "file_extension": ".py",
   "mimetype": "text/x-python",
   "name": "python",
   "nbconvert_exporter": "python",
   "pygments_lexer": "ipython3",
   "version": "3.7.3"
  }
 },
 "nbformat": 4,
 "nbformat_minor": 2
}
