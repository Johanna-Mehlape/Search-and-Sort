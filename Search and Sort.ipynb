{
 "cells": [
  {
   "cell_type": "markdown",
   "metadata": {},
   "source": [
    "# Search and Sort Techniques\n",
    "\n",
    "Searching is a very basic necessity when you store data in different data structures. It is the algorithmic process of finding a particular item in a collection of items while sorting is the process of placing elements from a collection in some kind of order. \n",
    "\n",
    "And to these processes here certain techniques used, namely:\n",
    "- Binary Search\n",
    "- Insertion Sort\n",
    "- Selection Sort\n",
    "- Bubble Sort\n",
    "- Merge Sort\n",
    "- Quick Sort\n",
    "- Sorting Algorithms Benchmark Comparison\n",
    "\n",
    "Below is a link to which contains question and instructions to how some of these techniques ae used. (N.B These happen to be questions to an assignment)\n",
    "\n",
    "https://umuzi-org.github.io/tech-department/projects/python-specific/search-and-sort/\n",
    "\n",
    "## Overview:\n",
    "* Importing necessary modules\n",
    "* Conduct a binary search on sorted dessert list\n",
    "* Conduct Bubble Sort\n",
    "* Conduct Selection Sort"
   ]
  },
  {
   "cell_type": "code",
   "execution_count": 1,
   "metadata": {},
   "outputs": [],
   "source": [
    "from numpy.random import seed\n",
    "import math \n",
    "from bisect import bisect_left\n",
    "import random\n",
    "seed(42)\n",
    "import timeit"
   ]
  },
  {
   "cell_type": "markdown",
   "metadata": {},
   "source": [
    "### Binary Search\n",
    "\n",
    "##### 1st Method\n",
    "\n",
    "Returning a boolean if the value is in the list.\n",
    "Capture the first and last index of the list, loop and divide the list capturing the mid value. In each loop will do the same, then compare if value input is equal to mid value."
   ]
  },
  {
   "cell_type": "code",
   "execution_count": 2,
   "metadata": {},
   "outputs": [],
   "source": [
    "index = [0, 1, 2, 3, 4, 5, 6, 7, 8, 9, 10, 11, 12, 13, 14]\n",
    "array = ['babka', 'baklava', 'cheesecake', 'cupcake', 'danish', 'eclair', 'funnelcake', 'kringle', 'lamington', 'profiterole', 'sopaipilla', 'strudel', 'tiramisu', 'torte', 'turnover']\n",
    "\n",
    "def binarySearch(array, value):\n",
    "  array = sorted(array)\n",
    "  first = 0\n",
    "  last = len(array) - 1\n",
    "\n",
    "  while first <= last:\n",
    "    midIndex = (first + last) // 2\n",
    "    midValue = array[midIndex]\n",
    "\n",
    "    if value == midValue:\n",
    "      return True\n",
    "    if value < midValue:\n",
    "      last = midIndex - 1\n",
    "    if value > midValue:\n",
    "      first = midIndex + 1\n",
    "  return False"
   ]
  },
  {
   "cell_type": "code",
   "execution_count": 3,
   "metadata": {},
   "outputs": [
    {
     "data": {
      "text/plain": [
       "False"
      ]
     },
     "execution_count": 3,
     "metadata": {},
     "output_type": "execute_result"
    }
   ],
   "source": [
    "binarySearch(array, 'doughnut')"
   ]
  },
  {
   "cell_type": "code",
   "execution_count": 4,
   "metadata": {},
   "outputs": [
    {
     "data": {
      "text/plain": [
       "True"
      ]
     },
     "execution_count": 4,
     "metadata": {},
     "output_type": "execute_result"
    }
   ],
   "source": [
    "binarySearch(array, 'tiramisu')"
   ]
  },
  {
   "cell_type": "markdown",
   "metadata": {},
   "source": [
    "#### 2nd Method\n",
    "\n",
    "###### Create Function, name:  binary_search\n",
    "- Input:   list -> the list of sorted elements\n",
    "- val -> the search value\n",
    "- Output:  the index where the search value was found in the list, or -1, if the search value is not found\n",
    "\n",
    "So first we find the middle most value then # Compare the value the middle most value then from there we initialize the sorted list and print the search results."
   ]
  },
  {
   "cell_type": "code",
   "execution_count": 5,
   "metadata": {},
   "outputs": [],
   "source": [
    "def binary_search (list, val):\n",
    "    \n",
    "    list_size = len(list) - 1\n",
    "\n",
    "    idx0 = 0\n",
    "    idxn = list_size\n",
    "\n",
    "    while idx0 <= idxn:\n",
    "        midval = (idx0 + idxn)// 2\n",
    "\n",
    "        if list[midval] == val:\n",
    "            return midval\n",
    "\n",
    "        if val > list[midval]:\n",
    "            idx0 = midval + 1\n",
    "        else:\n",
    "            idxn = midval - 1\n",
    "\n",
    "    if idx0 > idxn:\n",
    "        return \"Dessert not in list\"\n",
    "\n",
    "list = ['babka', 'baklava', 'cheesecake', 'cupcake', 'danish', 'eclair', \n",
    "        'funnelcake', 'kringle', 'lamington', 'profiterole', 'sopaipilla', \n",
    "        'strudel', 'tiramisu', 'torte', 'turnover']\n",
    " "
   ]
  },
  {
   "cell_type": "code",
   "execution_count": 6,
   "metadata": {},
   "outputs": [
    {
     "data": {
      "text/plain": [
       "'Dessert not in list'"
      ]
     },
     "execution_count": 6,
     "metadata": {},
     "output_type": "execute_result"
    }
   ],
   "source": [
    "binary_search(list, 'doughnut') #should return Dessert not in list"
   ]
  },
  {
   "cell_type": "code",
   "execution_count": 7,
   "metadata": {},
   "outputs": [
    {
     "data": {
      "text/plain": [
       "12"
      ]
     },
     "execution_count": 7,
     "metadata": {},
     "output_type": "execute_result"
    }
   ],
   "source": [
    "binary_search(list, 'tiramisu') #should return index 12    "
   ]
  },
  {
   "cell_type": "markdown",
   "metadata": {},
   "source": [
    "a)  What sequence of 'middle' values are compared to the target when performing a binary search with target doughnut?\n",
    "The sequence with values **['babka', 'baklava', 'cheesecake', 'cupcake', 'danish', 'eclair', 'funnelcake']** are compared to the target when performing a binary search with target doughnut and ebcause it is not there, it will return a value of -1.\n",
    "\n",
    "\n",
    "b)  What sequence of 'middle' values are compared to the target when performing a binary search with target tiramisu?\n",
    "The sequence with values **['kringle', 'lamington', 'profiterole', 'sopaipilla', 'strudel', 'tiramisu', 'torte', 'turnover']** are compared to the target when performing a binary search with target tiramisu"
   ]
  },
  {
   "cell_type": "markdown",
   "metadata": {},
   "source": [
    "### Bubble Sort"
   ]
  },
  {
   "cell_type": "code",
   "execution_count": 8,
   "metadata": {},
   "outputs": [
    {
     "name": "stdout",
     "output_type": "stream",
     "text": [
      "[6, 8, 9, 10, 11, 14, 20, 60]\n"
     ]
    }
   ],
   "source": [
    "def bubbleSort(alist):\n",
    "    for passnum in range(len(alist)-1,0,-1):\n",
    "        for i in range(passnum):\n",
    "            if alist[i]>alist[i+1]:\n",
    "                temp = alist[i]\n",
    "                alist[i] = alist[i+1]\n",
    "                alist[i+1] = temp\n",
    "                \n",
    "alist = [9, 20, 6, 10, 14, 8, 60, 11]\n",
    "\n",
    "bubbleSort(alist)\n",
    "print(alist)\n"
   ]
  },
  {
   "cell_type": "code",
   "execution_count": 9,
   "metadata": {},
   "outputs": [],
   "source": [
    "l = [9, 20, 6, 10, 14, 8, 60, 11]\n",
    "\n",
    "def bubble_sort(l):\n",
    "    for passes_left in range(len(l)-1, 0, -1):\n",
    "        for index in range(passes_left):\n",
    "            if l[index] < l[index + 1]:\n",
    "               l[index], l[index + 1] = l[index + 1], l[index]\n",
    "    return l"
   ]
  },
  {
   "cell_type": "code",
   "execution_count": 10,
   "metadata": {},
   "outputs": [
    {
     "data": {
      "text/plain": [
       "[60, 20, 14, 11, 10, 9, 8, 6]"
      ]
     },
     "execution_count": 10,
     "metadata": {},
     "output_type": "execute_result"
    }
   ],
   "source": [
    "bubble_sort(l)"
   ]
  },
  {
   "cell_type": "markdown",
   "metadata": {},
   "source": [
    "l = [9, 20, 6, 10, 14, 8, 60, 11]\n",
    "\n",
    "###### First pass:\n",
    "\n",
    "Here, algorithm compares the first two elements, and since 9 < 20, nothing changes\n",
    "\n",
    "[9, 20, 6, 10, 14, 8, 60, 11] –> [9, 20, 6, 10, 14, 8, 60, 11], \n",
    "\n",
    "Swap since 20 > 6\n",
    "\n",
    "[9, 20, 6, 10, 14, 8, 60, 11] –> [9, 6, 20, 10, 14, 8, 60, 11], \n",
    "\n",
    "Swap since 20 > 10\n",
    "\n",
    "[9, 6, 20, 10, 14, 8, 60, 11] –> [9, 6, 10, 20, 14, 8, 60, 11], \n",
    "\n",
    "Swap since 20 > 14\n",
    "\n",
    "[9, 6, 10, 20, 14, 8, 60, 11] –> [9, 6, 10, 14, 20, 8, 60, 11], \n",
    "\n",
    "Swap since 20 > 14\n",
    "\n",
    "[9, 6, 10, 14, 20, 8, 60, 11] –> [9, 6, 10, 14, 8, 20, 60, 11], \n",
    "\n",
    "20 remains in that position, you only swap 60 and 11 because 60 > 11\n",
    "\n",
    "[9, 6, 10, 14, 8, 20, 60, 11] –> [9, 6, 10, 14, 8, 20, 11,60], \n",
    "\n",
    "###### Second pass:\n",
    "\n",
    "Go back to the first index(i=0), swap since 9 > 6\n",
    "\n",
    "[9, 6, 10, 14, 8, 20, 11,60] –> [6, 9, 10, 14, 8, 20, 11, 60],\n",
    "\n",
    "Since 9 < 10, and 10 < 14, swap 14 and 8 since 14 > 8\n",
    "\n",
    "[6, 9, 10, 14, 8, 20, 11, 60] –> [6, 9, 10, 8, 14, 20, 11, 60],\n",
    "\n",
    "This is list is now sorted we move on to the next pass\n",
    "\n",
    "[6, 9, 10, 8, 14, 20, 11, 60] –> [6, 9, 10 , 8, 14, 11, 20, 60],\n",
    "\n",
    "###### Third pass\n",
    "\n",
    "Go back to the first index(i=0), 6 and 9 remain in the same position,  swap 10 and 8 since 10 > 8\n",
    "\n",
    "[6, 9, 10 , 8, 14, 11, 20, 60] –> [6, 9, 8, 10, 14, 11, 20, 60], \n",
    "\n",
    "This is list is now sorted we move on to the next pass\n",
    "\n",
    "[6, 9, 8, 10, 14, 11, 20, 60] –> [6, 9, 8, 10, 11, 14, 20, 60],\n",
    "\n",
    "###### Fourth pass\n",
    "\n",
    "Go back to the first index(i=0), 6< 9, so it remains in its position but 9 > 8 so we swap and now our list is sorted but it doesn't know that so we do our final pass\n",
    "\n",
    "[6, 9, 8, 10, 14, 11, 20, 60] –> [6, 8, 9, 10, 11, 14, 20, 60]\n",
    "\n",
    "###### Last Pass\n",
    "Our list is sorted\n",
    "\n",
    "[6, 8, 9, 10, 11, 14, 20, 60] –> [6, 8, 9, 10, 11, 14, 20, 60]\n"
   ]
  },
  {
   "cell_type": "markdown",
   "metadata": {},
   "source": [
    "### Selection Sort\n",
    "\n",
    "Selection Sort is about picking/selecting the smallest element from the list and placing it in the sorted portion of the list. Initially, the first element is considered the minimum and compared with other elements. During these comparisons, if a smaller element is found then that is considered the new minimum. After completion of one full round, the smallest element found is swapped with the first element. This process continues till all the elements are sorted. "
   ]
  },
  {
   "cell_type": "code",
   "execution_count": 11,
   "metadata": {},
   "outputs": [
    {
     "name": "stdout",
     "output_type": "stream",
     "text": [
      "[6, 8, 9, 10, 11, 14, 20, 60]\n"
     ]
    }
   ],
   "source": [
    "alist = [9, 20, 6, 10, 14, 8, 60, 11]\n",
    "\n",
    "def selectionSort(alist):\n",
    "\n",
    "   for i in range(len(alist)):\n",
    "\n",
    "      # Find the minimum element in remaining\n",
    "       minPosition = i\n",
    "\n",
    "       for j in range(i+1, len(alist)):\n",
    "           if alist[minPosition] > alist[j]:\n",
    "               minPosition = j\n",
    "                \n",
    "       # Swap the found minimum element with minPosition       \n",
    "       temp = alist[i]\n",
    "       alist[i] = alist[minPosition]\n",
    "       alist[minPosition] = temp\n",
    "\n",
    "   return alist\n",
    "\n",
    "print(selectionSort(alist))"
   ]
  },
  {
   "cell_type": "markdown",
   "metadata": {},
   "source": [
    "With the list given we will see how Selection Sort works\n",
    "\n",
    "list = [9, 20, 6, 10, 14, 8, 60, 11]\n",
    "\n",
    "\n",
    "###### First Pass:\n",
    "\n",
    "9 is the minimum\n",
    "\n",
    "9 < 20: nothing happens\n",
    "\n",
    "9 > 6: 6 is new minimum\n",
    "\n",
    "6 < 10: nothing happens\n",
    "\n",
    "6 < 14: nothing happens\n",
    "\n",
    "6 < 8: nothing happens\n",
    "\n",
    "6 < 60: nothing happens\n",
    "\n",
    "6 < 11:nothing happens\n",
    "\n",
    "Swap 6 and 9\n",
    "\n",
    "list =  [6,20,9,10,8,14,11,60]\n",
    "\n",
    "###### Second Pass:\n",
    "\n",
    "6 is the minimum\n",
    "\n",
    "6  <20: nothing happens\n",
    "\n",
    "20 > 9: 9 is the new minimun\n",
    "\n",
    "20>10: 10 is the new minimum\n",
    "\n",
    "20>8: 8 is the new minimum\n",
    "\n",
    "20>14: 14 is the new minimun\n",
    "\n",
    "20>11: 11 is the new minimum\n",
    "\n",
    "20<60: nothing happens\n",
    "\n",
    "We swappped 20 with 6, 20 with 10, 20 with 8, 20 with  14 and 20 with 11\n",
    "\n",
    "list = [6,9,10,8,14,11,20,60]\n",
    "\n",
    "###### Third Pass:\n",
    "10 is the new minimum\n",
    "10 > 8: 8 is the new minimum\n",
    "10 < 14: nothing happens\n",
    "14 > 11: 11 is the new minimum\n",
    "14 < 20: nothing happens\n",
    "\n",
    "We swapped 8 and 11\n",
    "\n",
    "list = [6,9,8,10,11,14,20,60]\n",
    "\n",
    "###### Fourth Pass:\n",
    "\n",
    "9 is the new minimum\n",
    "9 > 8: 8 is the new minimum\n",
    "\n",
    "We swapped 8 and 9\n",
    "\n",
    "list is sorted \n",
    "list = [6,8,9,10,11,14,20,60]\n",
    "\n",
    "The three search algorithms have varying run times, with the unsorted sequential search being the least efficient and the binary search being the most efficient (among the three).\n",
    "\n",
    "a) Modify the code for the seq_search.py (for unsorted lists), seq_search_ordered.py and binary_search.py to count the number of elements checked during the search.\n",
    "\n",
    "### Sequential Search(unordered lists)  to count the number of elements checked during the search. "
   ]
  },
  {
   "cell_type": "code",
   "execution_count": 12,
   "metadata": {},
   "outputs": [],
   "source": [
    "def sequential_search(values, search_for):\n",
    "    search_at = 0\n",
    "    search_res = False\n",
    "    #add count, begin at 0 .\n",
    "    count = 0# Match the value with each data element\n",
    "    while search_at < len(values) and search_res is False:\n",
    "        if values[search_at] == search_for:\n",
    "            search_res = True\n",
    "        else:\n",
    "            search_at = search_at + 1\n",
    "            #initialize the count\n",
    "        count += 1\n",
    "            #print the count of number of elements checked.\n",
    "        print(\"number of elements checked = \", count)    \n",
    "    return search_res"
   ]
  },
  {
   "cell_type": "code",
   "execution_count": 13,
   "metadata": {},
   "outputs": [
    {
     "name": "stdout",
     "output_type": "stream",
     "text": [
      "number of elements checked =  1\n",
      "number of elements checked =  2\n",
      "number of elements checked =  3\n",
      "number of elements checked =  4\n",
      "number of elements checked =  5\n",
      "number of elements checked =  6\n",
      "number of elements checked =  7\n",
      "number of elements checked =  8\n",
      "number of elements checked =  9\n",
      "number of elements checked =  10\n",
      "number of elements checked =  11\n",
      "number of elements checked =  12\n",
      "number of elements checked =  13\n",
      "number of elements checked =  14\n",
      "number of elements checked =  15\n",
      "number of elements checked =  16\n",
      "number of elements checked =  17\n",
      "True\n"
     ]
    }
   ],
   "source": [
    "# i. Search for the value 9 in the following array:\n",
    "A = [6, 19, -3, 5, 12, 7, 21, -8, 25, 10, 0, 28, -6, 1, 33, \n",
    "     18, 9, 2, -13, 43]\n",
    "print(sequential_search(A, 9)) #should return True"
   ]
  },
  {
   "cell_type": "code",
   "execution_count": 14,
   "metadata": {},
   "outputs": [
    {
     "name": "stdout",
     "output_type": "stream",
     "text": [
      "number of elements checked =  1\n",
      "number of elements checked =  2\n",
      "number of elements checked =  3\n",
      "number of elements checked =  4\n",
      "number of elements checked =  5\n",
      "number of elements checked =  6\n",
      "number of elements checked =  7\n",
      "number of elements checked =  8\n",
      "number of elements checked =  9\n",
      "number of elements checked =  10\n",
      "number of elements checked =  11\n",
      "number of elements checked =  12\n",
      "number of elements checked =  13\n",
      "number of elements checked =  14\n",
      "number of elements checked =  15\n",
      "number of elements checked =  16\n",
      "number of elements checked =  17\n",
      "number of elements checked =  18\n",
      "number of elements checked =  19\n",
      "number of elements checked =  20\n",
      "False\n"
     ]
    }
   ],
   "source": [
    "# ii.  Search for the value 11 in the following array:\n",
    "A = [6, 19, -3, 5, 12, 7, 21, -8, 25, 10, 0, 28, -6, 1, 33, \n",
    "     18, 9, 2, -13, 43]\n",
    "print(sequential_search(A, 11)) #should return False"
   ]
  },
  {
   "cell_type": "code",
   "execution_count": 15,
   "metadata": {},
   "outputs": [
    {
     "name": "stdout",
     "output_type": "stream",
     "text": [
      "number of elements checked =  1\n",
      "number of elements checked =  2\n",
      "number of elements checked =  3\n",
      "number of elements checked =  4\n",
      "number of elements checked =  5\n",
      "number of elements checked =  6\n",
      "number of elements checked =  7\n",
      "number of elements checked =  8\n",
      "number of elements checked =  9\n",
      "number of elements checked =  10\n",
      "number of elements checked =  11\n",
      "number of elements checked =  12\n",
      "number of elements checked =  13\n",
      "number of elements checked =  14\n",
      "number of elements checked =  15\n",
      "number of elements checked =  16\n",
      "number of elements checked =  17\n",
      "number of elements checked =  18\n",
      "number of elements checked =  19\n",
      "number of elements checked =  20\n",
      "number of elements checked =  21\n",
      "number of elements checked =  22\n",
      "number of elements checked =  23\n",
      "number of elements checked =  24\n",
      "number of elements checked =  25\n",
      "number of elements checked =  26\n",
      "number of elements checked =  27\n",
      "number of elements checked =  28\n",
      "number of elements checked =  29\n",
      "number of elements checked =  30\n",
      "number of elements checked =  31\n",
      "number of elements checked =  32\n",
      "number of elements checked =  33\n",
      "number of elements checked =  34\n",
      "number of elements checked =  35\n",
      "number of elements checked =  36\n",
      "number of elements checked =  37\n",
      "number of elements checked =  38\n",
      "number of elements checked =  39\n",
      "number of elements checked =  40\n",
      "False\n"
     ]
    }
   ],
   "source": [
    "#iii. Search for the value 11 in the following array:\n",
    "A = [6, 19, -3, 5, 12, 7, 21, -8, 25, 10, 0, 28, -6, 1, 33, \n",
    "     18, 9, 2, -13, 43, -15, 4, 22, 38, -5, 13, 23, -11, 29, \n",
    "     -20, 41, 31, -23, 35, 40, 14, 8, -18, 16, 36]\n",
    "print(sequential_search(A, 11)) #should return False"
   ]
  },
  {
   "cell_type": "markdown",
   "metadata": {},
   "source": [
    "### Sequential Search (ordered lists)  to count the number of elements checked during the search. "
   ]
  },
  {
   "cell_type": "markdown",
   "metadata": {},
   "source": [
    "First we have to sort out our list 'A' so that we can perform a Sequential Search on a ordered list"
   ]
  },
  {
   "cell_type": "code",
   "execution_count": 16,
   "metadata": {},
   "outputs": [
    {
     "name": "stdout",
     "output_type": "stream",
     "text": [
      "[-13, -8, -6, -3, 0, 1, 2, 5, 6, 7, 9, 10, 12, 18, 19, 21, 25, 28, 33, 43]\n"
     ]
    }
   ],
   "source": [
    "def bubbleSort(A):\n",
    "    for passnum in range(len(A)-1,0,-1):\n",
    "        for i in range(passnum):\n",
    "            if A[i]>A[i+1]:\n",
    "                temp = A[i]\n",
    "                A[i] = A[i+1]\n",
    "                A[i+1] = temp\n",
    "                \n",
    "A = [6, 19, -3, 5, 12, 7, 21, -8, 25, 10, 0, 28, \n",
    "     -6, 1, 33, 18, 9, 2, -13, 43]\n",
    " \n",
    "bubbleSort(A)\n",
    "print(A)\n"
   ]
  },
  {
   "cell_type": "code",
   "execution_count": 17,
   "metadata": {},
   "outputs": [],
   "source": [
    "def orderedSequentialSearch(A, item):\n",
    "    pos = 0\n",
    "    found = False\n",
    "    stop = False\n",
    "    count = 0\n",
    "\n",
    "    while pos < len(A) and not found and not stop:\n",
    "        if A[pos] == item:\n",
    "            found = True\n",
    "        else:\n",
    "            if A[pos] > item:\n",
    "                stop = True\n",
    "            else:\n",
    "                pos = pos+1\n",
    "        count += 1\n",
    "   \n",
    "    #print the count of number of elements checked.\n",
    "    print(\"number of elements checked is \", count)\n",
    "    return found"
   ]
  },
  {
   "cell_type": "code",
   "execution_count": 18,
   "metadata": {},
   "outputs": [
    {
     "name": "stdout",
     "output_type": "stream",
     "text": [
      "number of elements checked is  11\n",
      "True\n"
     ]
    }
   ],
   "source": [
    "#i. Search for the value 9 in the following array:\n",
    "A = [-13, -8, -6, -3, 0, 1, 2, 5, 6, 7, 9, 10, 12, 18, 19, 21, 25, \n",
    "     28, 33, 43]\n",
    "print(orderedSequentialSearch(A, 9)) "
   ]
  },
  {
   "cell_type": "code",
   "execution_count": 19,
   "metadata": {},
   "outputs": [
    {
     "name": "stdout",
     "output_type": "stream",
     "text": [
      "number of elements checked is  13\n",
      "False\n"
     ]
    }
   ],
   "source": [
    "#ii.  Search for the value 11 in the following array:\n",
    "A = [-13, -8, -6, -3, 0, 1, 2, 5, 6, 7, 9, 10, 12, 18, 19, 21, 25, \n",
    "     28, 33, 43]\n",
    "print(orderedSequentialSearch(A, 11)) #return False"
   ]
  },
  {
   "cell_type": "code",
   "execution_count": 20,
   "metadata": {},
   "outputs": [
    {
     "name": "stdout",
     "output_type": "stream",
     "text": [
      "number of elements checked is  21\n",
      "False\n"
     ]
    }
   ],
   "source": [
    "#iii. Search for the value 11 in the following array:\n",
    "A = [-23, -20, -18, -15, -13, -11, -8, -6, -5, -3, 0, 1, 2, 4, 5, \n",
    "     6, 7, 8, 9, 10, 12, 13, 14, 16, 18, 19, 21, 22, 23, 25, 28, \n",
    "     29, 31, 33, 35, 36, 38, 40, 41, 43]\n",
    "print(orderedSequentialSearch(A, 11)) #should return False"
   ]
  },
  {
   "cell_type": "markdown",
   "metadata": {},
   "source": [
    "Once more we need to sort the list as it has more values added in the list"
   ]
  },
  {
   "cell_type": "code",
   "execution_count": 21,
   "metadata": {},
   "outputs": [
    {
     "name": "stdout",
     "output_type": "stream",
     "text": [
      "[-23, -20, -18, -15, -13, -11, -8, -6, -5, -3, 0, 1, 2, 4, 5, 6, 7, 8, 9, 10, 12, 13, 14, 16, 18, 19, 21, 22, 23, 25, 28, 29, 31, 33, 35, 36, 38, 40, 41, 43]\n"
     ]
    }
   ],
   "source": [
    "def bubbleSort(A1):\n",
    "    for passnum in range(len(A1)-1,0,-1):\n",
    "        for i in range(passnum):\n",
    "            if A1[i]>A1[i+1]:\n",
    "                temp = A1[i]\n",
    "                A1[i] = A1[i+1]\n",
    "                A1[i+1] = temp\n",
    "                \n",
    "A1 = [6, 19, -3, 5, 12, 7, 21, -8, 25, 10, 0, 28, -6, 1, 33, 18, \n",
    "      9, 2, -13, 43, -15, 4, 22, 38, -5, 13, 23, -11, 29, -20, \n",
    "      41, 31, -23, 35, 40, 14, 8, -18, 16, 36]\n",
    " \n",
    "bubbleSort(A1)\n",
    "print(A1)"
   ]
  },
  {
   "cell_type": "code",
   "execution_count": 22,
   "metadata": {},
   "outputs": [
    {
     "name": "stdout",
     "output_type": "stream",
     "text": [
      "number of elements checked is  21\n",
      "False\n"
     ]
    }
   ],
   "source": [
    "# iii. Search for the value 11 in the following array:\n",
    "A_sorted = [-23, -20, -18, -15, -13, -11, -8, -6, -5, -3, 0, 1, 2, \n",
    "            4, 5, 6, 7, 8, 9, 10, 12, 13, 14, 16, 18, 19, 21, 22, \n",
    "            23, 25, 28, 29, 31, 33, 35, 36, 38, 40, 41, 43]\n",
    "print(orderedSequentialSearch(A_sorted, 11)) #return False"
   ]
  },
  {
   "cell_type": "markdown",
   "metadata": {},
   "source": [
    "### Binary Search to count the number of elements checked during the search. "
   ]
  },
  {
   "cell_type": "markdown",
   "metadata": {},
   "source": [
    "As we know, in binary search, we Search a sorted array by repeatedly dividing the search interval in half. So the first thing we going to do is use the sorted list"
   ]
  },
  {
   "cell_type": "code",
   "execution_count": 23,
   "metadata": {},
   "outputs": [],
   "source": [
    "def binarySearch(array, value):\n",
    "    array = sorted(array)\n",
    "    first = 0\n",
    "    last = len(array) - 1\n",
    "    count = 0\n",
    "    \n",
    "    while first <= last:\n",
    "        midIndex = (first + last) // 2\n",
    "        midValue = array[midIndex]\n",
    "        \n",
    "        if value == midValue:\n",
    "            return True\n",
    "        if value < midValue:\n",
    "            last = midIndex - 1\n",
    "        if value > midValue:\n",
    "            first = midIndex + 1\n",
    "            count += 1\n",
    "            \n",
    "    print(\"number of elements checked is \", count)\n",
    "    return False"
   ]
  },
  {
   "cell_type": "code",
   "execution_count": 24,
   "metadata": {},
   "outputs": [
    {
     "name": "stdout",
     "output_type": "stream",
     "text": [
      "True\n"
     ]
    }
   ],
   "source": [
    "#i. Search for the value 9 in the following array:\n",
    "A = [-13, -8, -6, -3, 0, 1, 2, 5, 6, 7, 9, 10, 12, 18, 19, 21, 25, \n",
    "     28, 33, 43]\n",
    "print(binarySearch(A, 9)) #Should return True"
   ]
  },
  {
   "cell_type": "code",
   "execution_count": 25,
   "metadata": {},
   "outputs": [
    {
     "name": "stdout",
     "output_type": "stream",
     "text": [
      "number of elements checked is  2\n",
      "False\n"
     ]
    }
   ],
   "source": [
    "#ii.  Search for the value 11 in the following array:\n",
    "A = [-13, -8, -6, -3, 0, 1, 2, 5, 6, 7, 9, 10, 12, 18, 19, 21, 25, \n",
    "     28, 33, 43]\n",
    "print(binarySearch(A, 11)) #Should return False"
   ]
  },
  {
   "cell_type": "code",
   "execution_count": 26,
   "metadata": {},
   "outputs": [
    {
     "name": "stdout",
     "output_type": "stream",
     "text": [
      "number of elements checked is  1\n",
      "False\n"
     ]
    }
   ],
   "source": [
    "# iii. Search for the value 11 in the following array:\n",
    "A = [-23, -20, -18, -15, -13, -11, -8, -6, -5, -3, 0, 1, 2, \n",
    "            4, 5, 6, 7, 8, 9, 10, 12, 13, 14, 16, 18, 19, 21, 22, \n",
    "            23, 25, 28, 29, 31, 33, 35, 36, 38, 40, 41, 43]\n",
    "print(binarySearch(A, 11)) #Should return False"
   ]
  },
  {
   "cell_type": "markdown",
   "metadata": {},
   "source": [
    "### Benchmark analysis using Merge sort, Quick sort, Bubble sort and Selection sort \n",
    "\n",
    "###### So what is Merge Sort?\n",
    "Merge sort is a perfectly elegant example of a Divide and Conquer algorithm. It simple uses the 2 main steps of such an algorithm:\n",
    "\n",
    "(1) Continuously divide the unsorted list until you have N sublists, where each sublist has 1 element that is “unsorted” and N is the number of elements in the original array.\n",
    "\n",
    "(2) Repeatedly merge i.e conquer the sublists together 2 at a time to produce new sorted sublists until all elements have been fully merged into a single sorted array.\n",
    "\n",
    "\n",
    "###### What is Quick Sort?\n",
    "Quick sort is also a divide and conquer algorithm like merge sort. Although it’s a bit more complicated, in most standard implementations it performs significantly faster than merge sort and rarely reaches its worst case complexity of O(n²). It has 3 main steps:\n",
    "\n",
    "(1) We first select an element which we will call the pivot from the array.\n",
    "\n",
    "(2) Move all elements that are smaller than the pivot to the left of the pivot; move all elements that are larger than the pivot to the right of the pivot. This is called the partition operation.\n",
    "\n",
    "(3) Recursively apply the above 2 steps separately to each of the sub-arrays of elements with smaller and bigger values than the last pivot."
   ]
  },
  {
   "cell_type": "code",
   "execution_count": 27,
   "metadata": {
    "scrolled": true
   },
   "outputs": [
    {
     "name": "stdout",
     "output_type": "stream",
     "text": [
      "[86, 41, 89, 5, 9, 68, 62, 92, 10, 30, 37, 57, 16, 99, 31, 29, 97, 7, 1, 58, 67, 47, 80, 56, 59, 46, 4, 98, 52, 25, 39, 88, 27, 23, 42, 91, 75, 18, 81, 63, 8, 85, 22, 33, 36, 66, 50, 93, 45, 11]\n"
     ]
    }
   ],
   "source": [
    "rand_int50 = random.sample(range(100), 50)\n",
    "print(rand_int50)"
   ]
  },
  {
   "cell_type": "code",
   "execution_count": 28,
   "metadata": {},
   "outputs": [
    {
     "name": "stdout",
     "output_type": "stream",
     "text": [
      "[98, 775, 540, 482, 206, 325, 294, 707, 55, 574, 630, 683, 351, 511, 602, 394, 913, 459, 688, 872, 672, 606, 233, 758, 196, 862, 744, 925, 637, 881, 109, 525, 577, 843, 466, 353, 234, 742, 335, 706, 320, 315, 238, 802, 469, 698, 500, 559, 450, 632, 531, 392, 360, 235, 921, 562, 370, 751, 20, 212, 585, 633, 510, 462, 621, 203, 901, 41, 439, 551, 422, 812, 399, 393, 54, 622, 959, 603, 317, 10, 5, 285, 487, 774, 367, 798, 722, 284, 167, 870, 713, 645, 699, 339, 446, 300, 42, 333, 199, 152, 62, 427, 937, 532, 310, 61, 433, 143, 329, 471, 342, 771, 985, 372, 550, 200, 685, 882, 912, 182, 607, 759, 319, 28, 662, 799, 695, 303, 217, 779, 30, 474, 250, 845, 251, 518, 189, 324, 528, 236, 80, 279, 306, 571, 801, 598, 910, 172, 944, 59, 429, 784, 128, 473, 343, 997, 523, 737, 951, 936, 569, 647, 558, 377, 60, 644, 224, 91, 863, 179, 732, 318, 761, 430, 788, 747, 701, 773, 100, 580, 949, 67, 69, 868, 58, 543, 130, 946, 748, 581, 35, 793, 890, 449, 957, 718, 705, 437, 79, 16, 390, 334, 593, 934, 415, 174, 760, 308, 410, 663, 309, 848, 311, 460, 186, 869, 689, 181, 46, 527, 624, 535, 948, 833, 907, 844, 74, 638, 82, 908, 480, 950, 164, 791, 656, 321, 693, 673, 617, 291, 14, 138, 952, 850, 220, 886, 298, 340, 776, 103, 131, 675, 434, 563, 140, 515, 218, 262, 790, 729, 158, 45, 249, 516, 821, 811, 877, 626, 885, 102, 183, 7, 227, 225, 576, 853, 380, 955, 154, 34, 435, 229, 323, 825, 356, 461, 175, 237, 144, 989, 31, 964, 716, 728, 117, 313, 715, 861, 241, 777, 322, 587, 338, 221, 440, 3, 871, 909, 505, 486, 38, 795, 594, 681, 97, 51, 611, 205, 627, 274, 968, 290, 147, 344, 18, 402, 2, 374, 252, 230, 258, 180, 709, 326, 113, 940, 717, 546, 726, 366, 710, 755, 690, 564, 405, 991, 988, 967, 254, 792, 654, 198, 619, 485, 349, 271, 684, 978, 96, 963, 552, 328, 194, 498, 764, 721, 866, 635, 72, 659, 750, 503, 134, 161, 472, 838, 133, 930, 395, 122, 565, 687, 260, 803, 896, 918, 554, 582, 752, 253, 522, 288, 733, 874, 287, 893, 94, 53, 211, 397, 458, 396, 879, 983, 83, 847, 765, 445, 162, 692, 346, 443, 65, 782, 743, 169, 412, 545, 375, 719, 629, 533, 541, 547, 609, 878, 201, 942, 286, 52, 468, 857, 78, 956, 470, 686, 289, 452, 213, 822, 104, 537, 897, 219, 640, 664, 514, 970, 947, 282, 904, 680, 960, 305, 296, 463, 973, 767, 330, 519, 455, 0, 432, 933, 139, 734, 4, 255, 88, 614, 785, 922, 381, 301, 365, 976, 668, 476, 156, 666, 414, 417, 404, 800, 589, 331, 75, 89, 746, 270, 787, 92, 832, 145, 332, 387, 504, 127, 873, 867, 33, 502, 923, 932, 190, 13, 369, 327, 560, 114, 608, 736, 9, 141, 586, 966, 269, 295, 71, 29, 763, 839, 720, 106, 379, 938, 413, 406, 490, 555, 39, 815, 855, 971, 17, 999, 875, 727, 105, 297, 163, 488, 493, 657, 993, 244, 634, 954, 810, 226, 972, 649, 116, 660, 708, 739, 207, 465, 93, 816, 676, 592, 64, 425, 920, 652, 352, 408, 371, 136, 992, 447, 24, 108, 23, 442, 477, 665, 979, 572, 941, 376, 588, 21, 883, 421, 658, 202, 73, 914, 240, 549, 242, 132, 341, 409, 232, 77, 107, 679, 836, 153, 661, 68, 573, 261, 497, 57, 168, 193, 650, 677, 22, 561, 994, 95, 974, 898, 827, 542, 613, 246, 112, 980, 682, 766, 188, 400, 895, 702, 786, 508, 512, 142, 641, 19, 120, 864, 441, 911, 570, 151, 817, 6, 553, 643, 935, 754, 398, 293, 110, 723, 386, 84, 223, 887, 579, 567, 137, 66, 807, 350, 601, 483, 835, 600, 494, 187, 927, 834, 411, 548, 124, 27, 86, 292, 591, 926, 778, 391, 119, 280, 851, 770, 735, 222, 618, 842, 484, 268, 797, 943, 884, 121, 678, 977, 965, 111, 538, 355, 177, 730, 214, 37, 667, 423, 655, 135, 90, 953, 159, 418, 859, 456, 87, 981, 900, 148, 623, 1, 444, 266, 724, 478, 359, 818, 115, 248, 259, 453, 178, 595, 984, 239, 575, 125, 781, 639, 419, 354, 388, 536, 846, 520, 70, 604, 265, 44, 703, 852, 401, 824, 304, 530, 384, 975, 831, 749, 986, 389, 889, 454, 272, 590, 43, 915, 674, 184, 155, 368, 267, 50, 700, 711, 903, 312, 612, 407, 828, 81, 636, 524, 428, 210, 149, 596, 361, 208, 501, 990, 496, 819, 49, 891, 231, 385, 566, 378, 185, 809, 653, 919, 85, 283, 26, 772, 840, 314, 197, 865, 36, 247, 32, 856, 740, 648, 101, 762, 424, 191, 823, 358, 905, 671, 995, 426, 731, 278, 876, 557, 962, 783, 928, 257, 826, 583, 263, 712, 814, 804, 150, 146, 902, 714, 507, 347, 616, 610, 363, 475, 160, 578, 813, 8, 431, 646, 464, 961, 615, 118, 448, 364, 481, 526, 123, 56, 12, 192, 670, 796, 173, 858, 599, 492, 880, 228, 489, 166, 521, 854, 837, 806, 345, 457, 495, 768, 694, 420, 499, 741, 25, 906, 929, 539, 281, 691, 170, 529, 756, 299, 126, 892, 362, 275, 357, 849, 829, 945, 998, 620, 820, 277, 467, 625, 171, 63, 383, 696, 99, 544, 669, 697, 987, 597, 769, 830, 337, 556, 436, 302, 996, 745, 917, 129, 48, 628, 273, 479, 204, 373, 605, 982, 382, 245, 209, 216, 651, 513, 491, 215, 924, 738, 704, 841, 348, 403, 969, 757, 506, 157, 15, 725, 243, 860, 256, 939, 899, 76, 568, 40, 176, 753, 307, 195, 451, 534, 416, 165, 894, 916, 438, 794, 958, 808, 888, 517, 789, 264, 11, 276, 805, 631, 509, 584, 47, 780, 931, 642, 336, 316]\n"
     ]
    }
   ],
   "source": [
    "rand_int1000 = random.sample(range(1000), 1000)\n",
    "print(rand_int1000)"
   ]
  },
  {
   "cell_type": "markdown",
   "metadata": {},
   "source": [
    "###### Merge Sort"
   ]
  },
  {
   "cell_type": "code",
   "execution_count": 29,
   "metadata": {},
   "outputs": [
    {
     "name": "stdout",
     "output_type": "stream",
     "text": [
      "[1, 2, 4, 7, 11, 14, 15, 17, 20, 22, 23, 24, 25, 29, 30, 32, 35, 37, 38, 44, 45, 46, 47, 50, 51, 53, 54, 56, 58, 59, 61, 64, 65, 70, 72, 73, 74, 75, 77, 80, 81, 82, 84, 85, 87, 89, 91, 94, 97, 98]\n"
     ]
    }
   ],
   "source": [
    "def merge(left_list, right_list):\n",
    "    sorted_list = []\n",
    "    left_list_index = right_list_index = 0\n",
    "\n",
    "    # We use the list lengths often, so its handy to make variables\n",
    "    left_list_length, right_list_length = len(left_list), len(right_list)\n",
    "\n",
    "    for _ in range(left_list_length + right_list_length):\n",
    "        if left_list_index < left_list_length and right_list_index < right_list_length:\n",
    "            # We check which value from the start of each list is smaller\n",
    "            # If the item at the beginning of the left list is smaller, add it\n",
    "            # to the sorted list\n",
    "            if left_list[left_list_index] <= right_list[right_list_index]:\n",
    "                sorted_list.append(left_list[left_list_index])\n",
    "                left_list_index += 1\n",
    "            # If the item at the beginning of the right list is smaller, add it\n",
    "            # to the sorted list\n",
    "            else:\n",
    "                sorted_list.append(right_list[right_list_index])\n",
    "                right_list_index += 1\n",
    "\n",
    "        # If we've reached the end of the of the left list, add the elements\n",
    "        # from the right list\n",
    "        elif left_list_index == left_list_length:\n",
    "            sorted_list.append(right_list[right_list_index])\n",
    "            right_list_index += 1\n",
    "        # If we've reached the end of the of the right list, add the elements\n",
    "        # from the left list\n",
    "        elif right_list_index == right_list_length:\n",
    "            sorted_list.append(left_list[left_list_index])\n",
    "            left_list_index += 1\n",
    "\n",
    "    return sorted_list\n",
    "\n",
    "\n",
    "def merge_sort(nums):\n",
    "    # If the list is a single element, return it\n",
    "    if len(nums) <= 1:\n",
    "        return nums\n",
    "\n",
    "    # Use floor division to get midpoint, indices must be integers\n",
    "    mid = len(nums) // 2\n",
    "    \n",
    "    # Sort and merge each half\n",
    "    left_list = merge_sort(nums[:mid])\n",
    "    right_list = merge_sort(nums[mid:])\n",
    "\n",
    "    # Merge the sorted lists into a new one\n",
    "    return merge(left_list, right_list)\n",
    "\n",
    "\n",
    "# Verify it works\n",
    "rand_int50 = random.sample(range(100), 50)\n",
    "rand_int1000 = random.sample(range(1000), 1000)\n",
    "random_list_of_nums50 = merge_sort(rand_int50)\n",
    "print(random_list_of_nums50)"
   ]
  },
  {
   "cell_type": "code",
   "execution_count": 30,
   "metadata": {},
   "outputs": [
    {
     "name": "stdout",
     "output_type": "stream",
     "text": [
      "[0, 1, 2, 3, 4, 5, 6, 7, 8, 9, 10, 11, 12, 13, 14, 15, 16, 17, 18, 19, 20, 21, 22, 23, 24, 25, 26, 27, 28, 29, 30, 31, 32, 33, 34, 35, 36, 37, 38, 39, 40, 41, 42, 43, 44, 45, 46, 47, 48, 49, 50, 51, 52, 53, 54, 55, 56, 57, 58, 59, 60, 61, 62, 63, 64, 65, 66, 67, 68, 69, 70, 71, 72, 73, 74, 75, 76, 77, 78, 79, 80, 81, 82, 83, 84, 85, 86, 87, 88, 89, 90, 91, 92, 93, 94, 95, 96, 97, 98, 99, 100, 101, 102, 103, 104, 105, 106, 107, 108, 109, 110, 111, 112, 113, 114, 115, 116, 117, 118, 119, 120, 121, 122, 123, 124, 125, 126, 127, 128, 129, 130, 131, 132, 133, 134, 135, 136, 137, 138, 139, 140, 141, 142, 143, 144, 145, 146, 147, 148, 149, 150, 151, 152, 153, 154, 155, 156, 157, 158, 159, 160, 161, 162, 163, 164, 165, 166, 167, 168, 169, 170, 171, 172, 173, 174, 175, 176, 177, 178, 179, 180, 181, 182, 183, 184, 185, 186, 187, 188, 189, 190, 191, 192, 193, 194, 195, 196, 197, 198, 199, 200, 201, 202, 203, 204, 205, 206, 207, 208, 209, 210, 211, 212, 213, 214, 215, 216, 217, 218, 219, 220, 221, 222, 223, 224, 225, 226, 227, 228, 229, 230, 231, 232, 233, 234, 235, 236, 237, 238, 239, 240, 241, 242, 243, 244, 245, 246, 247, 248, 249, 250, 251, 252, 253, 254, 255, 256, 257, 258, 259, 260, 261, 262, 263, 264, 265, 266, 267, 268, 269, 270, 271, 272, 273, 274, 275, 276, 277, 278, 279, 280, 281, 282, 283, 284, 285, 286, 287, 288, 289, 290, 291, 292, 293, 294, 295, 296, 297, 298, 299, 300, 301, 302, 303, 304, 305, 306, 307, 308, 309, 310, 311, 312, 313, 314, 315, 316, 317, 318, 319, 320, 321, 322, 323, 324, 325, 326, 327, 328, 329, 330, 331, 332, 333, 334, 335, 336, 337, 338, 339, 340, 341, 342, 343, 344, 345, 346, 347, 348, 349, 350, 351, 352, 353, 354, 355, 356, 357, 358, 359, 360, 361, 362, 363, 364, 365, 366, 367, 368, 369, 370, 371, 372, 373, 374, 375, 376, 377, 378, 379, 380, 381, 382, 383, 384, 385, 386, 387, 388, 389, 390, 391, 392, 393, 394, 395, 396, 397, 398, 399, 400, 401, 402, 403, 404, 405, 406, 407, 408, 409, 410, 411, 412, 413, 414, 415, 416, 417, 418, 419, 420, 421, 422, 423, 424, 425, 426, 427, 428, 429, 430, 431, 432, 433, 434, 435, 436, 437, 438, 439, 440, 441, 442, 443, 444, 445, 446, 447, 448, 449, 450, 451, 452, 453, 454, 455, 456, 457, 458, 459, 460, 461, 462, 463, 464, 465, 466, 467, 468, 469, 470, 471, 472, 473, 474, 475, 476, 477, 478, 479, 480, 481, 482, 483, 484, 485, 486, 487, 488, 489, 490, 491, 492, 493, 494, 495, 496, 497, 498, 499, 500, 501, 502, 503, 504, 505, 506, 507, 508, 509, 510, 511, 512, 513, 514, 515, 516, 517, 518, 519, 520, 521, 522, 523, 524, 525, 526, 527, 528, 529, 530, 531, 532, 533, 534, 535, 536, 537, 538, 539, 540, 541, 542, 543, 544, 545, 546, 547, 548, 549, 550, 551, 552, 553, 554, 555, 556, 557, 558, 559, 560, 561, 562, 563, 564, 565, 566, 567, 568, 569, 570, 571, 572, 573, 574, 575, 576, 577, 578, 579, 580, 581, 582, 583, 584, 585, 586, 587, 588, 589, 590, 591, 592, 593, 594, 595, 596, 597, 598, 599, 600, 601, 602, 603, 604, 605, 606, 607, 608, 609, 610, 611, 612, 613, 614, 615, 616, 617, 618, 619, 620, 621, 622, 623, 624, 625, 626, 627, 628, 629, 630, 631, 632, 633, 634, 635, 636, 637, 638, 639, 640, 641, 642, 643, 644, 645, 646, 647, 648, 649, 650, 651, 652, 653, 654, 655, 656, 657, 658, 659, 660, 661, 662, 663, 664, 665, 666, 667, 668, 669, 670, 671, 672, 673, 674, 675, 676, 677, 678, 679, 680, 681, 682, 683, 684, 685, 686, 687, 688, 689, 690, 691, 692, 693, 694, 695, 696, 697, 698, 699, 700, 701, 702, 703, 704, 705, 706, 707, 708, 709, 710, 711, 712, 713, 714, 715, 716, 717, 718, 719, 720, 721, 722, 723, 724, 725, 726, 727, 728, 729, 730, 731, 732, 733, 734, 735, 736, 737, 738, 739, 740, 741, 742, 743, 744, 745, 746, 747, 748, 749, 750, 751, 752, 753, 754, 755, 756, 757, 758, 759, 760, 761, 762, 763, 764, 765, 766, 767, 768, 769, 770, 771, 772, 773, 774, 775, 776, 777, 778, 779, 780, 781, 782, 783, 784, 785, 786, 787, 788, 789, 790, 791, 792, 793, 794, 795, 796, 797, 798, 799, 800, 801, 802, 803, 804, 805, 806, 807, 808, 809, 810, 811, 812, 813, 814, 815, 816, 817, 818, 819, 820, 821, 822, 823, 824, 825, 826, 827, 828, 829, 830, 831, 832, 833, 834, 835, 836, 837, 838, 839, 840, 841, 842, 843, 844, 845, 846, 847, 848, 849, 850, 851, 852, 853, 854, 855, 856, 857, 858, 859, 860, 861, 862, 863, 864, 865, 866, 867, 868, 869, 870, 871, 872, 873, 874, 875, 876, 877, 878, 879, 880, 881, 882, 883, 884, 885, 886, 887, 888, 889, 890, 891, 892, 893, 894, 895, 896, 897, 898, 899, 900, 901, 902, 903, 904, 905, 906, 907, 908, 909, 910, 911, 912, 913, 914, 915, 916, 917, 918, 919, 920, 921, 922, 923, 924, 925, 926, 927, 928, 929, 930, 931, 932, 933, 934, 935, 936, 937, 938, 939, 940, 941, 942, 943, 944, 945, 946, 947, 948, 949, 950, 951, 952, 953, 954, 955, 956, 957, 958, 959, 960, 961, 962, 963, 964, 965, 966, 967, 968, 969, 970, 971, 972, 973, 974, 975, 976, 977, 978, 979, 980, 981, 982, 983, 984, 985, 986, 987, 988, 989, 990, 991, 992, 993, 994, 995, 996, 997, 998, 999]\n"
     ]
    }
   ],
   "source": [
    "random_list_of_nums1000 = merge_sort(rand_int1000)\n",
    "print(random_list_of_nums1000)"
   ]
  },
  {
   "cell_type": "markdown",
   "metadata": {},
   "source": [
    "###### Quick Sort"
   ]
  },
  {
   "cell_type": "code",
   "execution_count": 31,
   "metadata": {},
   "outputs": [
    {
     "name": "stdout",
     "output_type": "stream",
     "text": [
      "[1, 2, 4, 5, 6, 9, 14, 15, 18, 22, 24, 26, 27, 33, 35, 36, 37, 39, 41, 46, 47, 50, 58, 60, 63, 64, 65, 66, 68, 69, 71, 72, 73, 77, 80, 82, 83, 84, 86, 87, 88, 89, 91, 92, 93, 94, 95, 96, 98, 99]\n"
     ]
    }
   ],
   "source": [
    "# There are different ways to do a Quick Sort partition, this implements the\n",
    "# Hoare partition scheme. \n",
    "def partition(nums, low, high):\n",
    "    # We select the middle element to be the pivot. Some implementations select\n",
    "    # the first element or the last element. Sometimes the median value becomes\n",
    "    # the pivot, or a random one. There are many more strategies that can be\n",
    "    # chosen or created.\n",
    "    pivot = nums[(low + high) // 2]\n",
    "    i = low - 1\n",
    "    j = high + 1\n",
    "    while True:\n",
    "        i += 1\n",
    "        while nums[i] < pivot:\n",
    "            i += 1\n",
    "\n",
    "        j -= 1\n",
    "        while nums[j] > pivot:\n",
    "            j -= 1\n",
    "\n",
    "        if i >= j:\n",
    "            return j\n",
    "\n",
    "        # If an element at i (on the left of the pivot) is larger than the\n",
    "        # element at j (on right right of the pivot), then swap them\n",
    "        nums[i], nums[j] = nums[j], nums[i]\n",
    "\n",
    "\n",
    "def quick_sort(nums):\n",
    "    # Create a helper function that will be called recursively\n",
    "    def _quick_sort(items, low, high):\n",
    "        if low < high:\n",
    "            # This is the index after the pivot, where our lists are split\n",
    "            split_index = partition(items, low, high)\n",
    "            _quick_sort(items, low, split_index)\n",
    "            _quick_sort(items, split_index + 1, high)\n",
    "\n",
    "    _quick_sort(nums, 0, len(nums) - 1)\n",
    "\n",
    "\n",
    "# Verify it works\n",
    "rand_int50 = random.sample(range(100), 50)\n",
    "quick_sort(rand_int50)\n",
    "print(rand_int50)"
   ]
  },
  {
   "cell_type": "code",
   "execution_count": 32,
   "metadata": {},
   "outputs": [
    {
     "name": "stdout",
     "output_type": "stream",
     "text": [
      "[0, 1, 2, 3, 4, 5, 6, 7, 8, 9, 10, 11, 12, 13, 14, 15, 16, 17, 18, 19, 20, 21, 22, 23, 24, 25, 26, 27, 28, 29, 30, 31, 32, 33, 34, 35, 36, 37, 38, 39, 40, 41, 42, 43, 44, 45, 46, 47, 48, 49, 50, 51, 52, 53, 54, 55, 56, 57, 58, 59, 60, 61, 62, 63, 64, 65, 66, 67, 68, 69, 70, 71, 72, 73, 74, 75, 76, 77, 78, 79, 80, 81, 82, 83, 84, 85, 86, 87, 88, 89, 90, 91, 92, 93, 94, 95, 96, 97, 98, 99, 100, 101, 102, 103, 104, 105, 106, 107, 108, 109, 110, 111, 112, 113, 114, 115, 116, 117, 118, 119, 120, 121, 122, 123, 124, 125, 126, 127, 128, 129, 130, 131, 132, 133, 134, 135, 136, 137, 138, 139, 140, 141, 142, 143, 144, 145, 146, 147, 148, 149, 150, 151, 152, 153, 154, 155, 156, 157, 158, 159, 160, 161, 162, 163, 164, 165, 166, 167, 168, 169, 170, 171, 172, 173, 174, 175, 176, 177, 178, 179, 180, 181, 182, 183, 184, 185, 186, 187, 188, 189, 190, 191, 192, 193, 194, 195, 196, 197, 198, 199, 200, 201, 202, 203, 204, 205, 206, 207, 208, 209, 210, 211, 212, 213, 214, 215, 216, 217, 218, 219, 220, 221, 222, 223, 224, 225, 226, 227, 228, 229, 230, 231, 232, 233, 234, 235, 236, 237, 238, 239, 240, 241, 242, 243, 244, 245, 246, 247, 248, 249, 250, 251, 252, 253, 254, 255, 256, 257, 258, 259, 260, 261, 262, 263, 264, 265, 266, 267, 268, 269, 270, 271, 272, 273, 274, 275, 276, 277, 278, 279, 280, 281, 282, 283, 284, 285, 286, 287, 288, 289, 290, 291, 292, 293, 294, 295, 296, 297, 298, 299, 300, 301, 302, 303, 304, 305, 306, 307, 308, 309, 310, 311, 312, 313, 314, 315, 316, 317, 318, 319, 320, 321, 322, 323, 324, 325, 326, 327, 328, 329, 330, 331, 332, 333, 334, 335, 336, 337, 338, 339, 340, 341, 342, 343, 344, 345, 346, 347, 348, 349, 350, 351, 352, 353, 354, 355, 356, 357, 358, 359, 360, 361, 362, 363, 364, 365, 366, 367, 368, 369, 370, 371, 372, 373, 374, 375, 376, 377, 378, 379, 380, 381, 382, 383, 384, 385, 386, 387, 388, 389, 390, 391, 392, 393, 394, 395, 396, 397, 398, 399, 400, 401, 402, 403, 404, 405, 406, 407, 408, 409, 410, 411, 412, 413, 414, 415, 416, 417, 418, 419, 420, 421, 422, 423, 424, 425, 426, 427, 428, 429, 430, 431, 432, 433, 434, 435, 436, 437, 438, 439, 440, 441, 442, 443, 444, 445, 446, 447, 448, 449, 450, 451, 452, 453, 454, 455, 456, 457, 458, 459, 460, 461, 462, 463, 464, 465, 466, 467, 468, 469, 470, 471, 472, 473, 474, 475, 476, 477, 478, 479, 480, 481, 482, 483, 484, 485, 486, 487, 488, 489, 490, 491, 492, 493, 494, 495, 496, 497, 498, 499, 500, 501, 502, 503, 504, 505, 506, 507, 508, 509, 510, 511, 512, 513, 514, 515, 516, 517, 518, 519, 520, 521, 522, 523, 524, 525, 526, 527, 528, 529, 530, 531, 532, 533, 534, 535, 536, 537, 538, 539, 540, 541, 542, 543, 544, 545, 546, 547, 548, 549, 550, 551, 552, 553, 554, 555, 556, 557, 558, 559, 560, 561, 562, 563, 564, 565, 566, 567, 568, 569, 570, 571, 572, 573, 574, 575, 576, 577, 578, 579, 580, 581, 582, 583, 584, 585, 586, 587, 588, 589, 590, 591, 592, 593, 594, 595, 596, 597, 598, 599, 600, 601, 602, 603, 604, 605, 606, 607, 608, 609, 610, 611, 612, 613, 614, 615, 616, 617, 618, 619, 620, 621, 622, 623, 624, 625, 626, 627, 628, 629, 630, 631, 632, 633, 634, 635, 636, 637, 638, 639, 640, 641, 642, 643, 644, 645, 646, 647, 648, 649, 650, 651, 652, 653, 654, 655, 656, 657, 658, 659, 660, 661, 662, 663, 664, 665, 666, 667, 668, 669, 670, 671, 672, 673, 674, 675, 676, 677, 678, 679, 680, 681, 682, 683, 684, 685, 686, 687, 688, 689, 690, 691, 692, 693, 694, 695, 696, 697, 698, 699, 700, 701, 702, 703, 704, 705, 706, 707, 708, 709, 710, 711, 712, 713, 714, 715, 716, 717, 718, 719, 720, 721, 722, 723, 724, 725, 726, 727, 728, 729, 730, 731, 732, 733, 734, 735, 736, 737, 738, 739, 740, 741, 742, 743, 744, 745, 746, 747, 748, 749, 750, 751, 752, 753, 754, 755, 756, 757, 758, 759, 760, 761, 762, 763, 764, 765, 766, 767, 768, 769, 770, 771, 772, 773, 774, 775, 776, 777, 778, 779, 780, 781, 782, 783, 784, 785, 786, 787, 788, 789, 790, 791, 792, 793, 794, 795, 796, 797, 798, 799, 800, 801, 802, 803, 804, 805, 806, 807, 808, 809, 810, 811, 812, 813, 814, 815, 816, 817, 818, 819, 820, 821, 822, 823, 824, 825, 826, 827, 828, 829, 830, 831, 832, 833, 834, 835, 836, 837, 838, 839, 840, 841, 842, 843, 844, 845, 846, 847, 848, 849, 850, 851, 852, 853, 854, 855, 856, 857, 858, 859, 860, 861, 862, 863, 864, 865, 866, 867, 868, 869, 870, 871, 872, 873, 874, 875, 876, 877, 878, 879, 880, 881, 882, 883, 884, 885, 886, 887, 888, 889, 890, 891, 892, 893, 894, 895, 896, 897, 898, 899, 900, 901, 902, 903, 904, 905, 906, 907, 908, 909, 910, 911, 912, 913, 914, 915, 916, 917, 918, 919, 920, 921, 922, 923, 924, 925, 926, 927, 928, 929, 930, 931, 932, 933, 934, 935, 936, 937, 938, 939, 940, 941, 942, 943, 944, 945, 946, 947, 948, 949, 950, 951, 952, 953, 954, 955, 956, 957, 958, 959, 960, 961, 962, 963, 964, 965, 966, 967, 968, 969, 970, 971, 972, 973, 974, 975, 976, 977, 978, 979, 980, 981, 982, 983, 984, 985, 986, 987, 988, 989, 990, 991, 992, 993, 994, 995, 996, 997, 998, 999]\n"
     ]
    }
   ],
   "source": [
    "rand_int1000 = random.sample(range(1000), 1000)\n",
    "quick_sort(rand_int1000)\n",
    "print(rand_int1000)"
   ]
  },
  {
   "cell_type": "markdown",
   "metadata": {},
   "source": [
    "### The Execution Speed Comparisons between the different sorting techniques"
   ]
  },
  {
   "cell_type": "code",
   "execution_count": 33,
   "metadata": {},
   "outputs": [
    {
     "name": "stdout",
     "output_type": "stream",
     "text": [
      "Time to sort 50 random ints with mergesort = 0.000172 seconds\n",
      "Time to sort 1000 random ints with mergesort = 0.004844 seconds\n"
     ]
    }
   ],
   "source": [
    "#merge sort speed\n",
    "\n",
    "MSrand_int50 = timeit.Timer(lambda: merge_sort(rand_int50)).timeit(number=1)\n",
    "MSrand_int1000 = timeit.Timer(lambda: merge_sort(rand_int1000)).timeit(number=1)\n",
    "\n",
    "print('Time to sort 50 random ints with mergesort = %f seconds' % MSrand_int50)\n",
    "print('Time to sort 1000 random ints with mergesort = %f seconds' % MSrand_int1000 )"
   ]
  },
  {
   "cell_type": "code",
   "execution_count": 34,
   "metadata": {},
   "outputs": [
    {
     "name": "stdout",
     "output_type": "stream",
     "text": [
      "Time to sort 50 random ints with quick sort = 0.000080 seconds\n",
      "Time to sort 1000 random ints with quick sort = 0.001988 seconds\n"
     ]
    }
   ],
   "source": [
    "# quick sort speed\n",
    "QSrand_int50 = timeit.Timer(lambda: quick_sort(rand_int50)).timeit(number=1)\n",
    "QSrand_int1000 = timeit.Timer(lambda: quick_sort(rand_int1000)).timeit(number=1)\n",
    "\n",
    "print('Time to sort 50 random ints with quick sort = %f seconds' % QSrand_int50)\n",
    "print('Time to sort 1000 random ints with quick sort = %f seconds' % QSrand_int1000 )"
   ]
  },
  {
   "cell_type": "code",
   "execution_count": 35,
   "metadata": {},
   "outputs": [
    {
     "name": "stdout",
     "output_type": "stream",
     "text": [
      "Time to sort 50 random ints with bubble sort = 0.000161 seconds\n",
      "Time to sort 1000 random ints with bubble sort = 0.069974 seconds\n"
     ]
    }
   ],
   "source": [
    "# bubble sort speed\n",
    "BSrand_int50 = timeit.Timer(lambda: bubbleSort(rand_int50)).timeit(number=1)\n",
    "BSrand_int1000 = timeit.Timer(lambda: bubbleSort(rand_int1000)).timeit(number=1)\n",
    "\n",
    "print('Time to sort 50 random ints with bubble sort = %f seconds' % BSrand_int50)\n",
    "print('Time to sort 1000 random ints with bubble sort = %f seconds' % BSrand_int1000 )"
   ]
  },
  {
   "cell_type": "code",
   "execution_count": 36,
   "metadata": {},
   "outputs": [
    {
     "name": "stdout",
     "output_type": "stream",
     "text": [
      "Time to sort 50 random ints with selection sort = 0.000155 seconds\n",
      "Time to sort 1000 random ints with selection sort = 0.066018 seconds\n"
     ]
    }
   ],
   "source": [
    "# selection sort speed\n",
    "SSrand_int50 = timeit.Timer(lambda: selectionSort(rand_int50)).timeit(number=1)\n",
    "SSrand_int1000 = timeit.Timer(lambda: selectionSort(rand_int1000)).timeit(number=1)\n",
    "\n",
    "print('Time to sort 50 random ints with selection sort = %f seconds' % SSrand_int50)\n",
    "print('Time to sort 1000 random ints with selection sort = %f seconds' % SSrand_int1000 )"
   ]
  },
  {
   "cell_type": "markdown",
   "metadata": {},
   "source": [
    "# Conclusion\n",
    "\n",
    "Sorting algorithms gives us many ways to order our data. We looked at 4 different algorithms - Bubble Sort, Selection Sort, Merge Sort and Quick Sort - as well as their implementations in Python.\n",
    "\n",
    "The amount of comparison and swaps the algorithm performs along with the environment the code runs are key determinants of performance. And with observations from the outputted times it is very much visible that **Quick Sort**  was indeed the quickest with a runtime of 0.000098 seconds for 50 random numbers and 0.002078 seconds for 1000 random numbers."
   ]
  }
 ],
 "metadata": {
  "kernelspec": {
   "display_name": "Python 3",
   "language": "python",
   "name": "python3"
  },
  "language_info": {
   "codemirror_mode": {
    "name": "ipython",
    "version": 3
   },
   "file_extension": ".py",
   "mimetype": "text/x-python",
   "name": "python",
   "nbconvert_exporter": "python",
   "pygments_lexer": "ipython3",
   "version": "3.7.3"
  }
 },
 "nbformat": 4,
 "nbformat_minor": 2
}
