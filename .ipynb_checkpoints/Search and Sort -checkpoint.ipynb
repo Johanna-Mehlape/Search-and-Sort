{
 "cells": [
  {
   "cell_type": "markdown",
   "metadata": {},
   "source": [
    "# Search and Sort Techniques\n",
    "\n",
    "Searching is a very basic necessity when you store data in different data structures. It is the algorithmic process of finding a particular item in a collection of items while sorting is the process of placing elements from a collection in some kind of order. \n",
    "\n",
    "And to these processes here certain techniques used, namely:\n",
    "Binary Search\n",
    "Insertion Sort\n",
    "Selection Sort\n",
    "Bubble Sort\n",
    "Merge Sort\n",
    "Quick Sort\n",
    "Sorting Algorithms Benchmark Comparison\n",
    "\n",
    "Below is a link to which contains question and instructions to how some of these techniques ae used. (N.B These happen to be questions to an assignment)\n",
    "\n",
    "https://umuzi-org.github.io/tech-department/projects/python-specific/search-and-sort/\n",
    "\n",
    "## Overview:\n",
    "* Importing necessary modules\n",
    "* Conduct a binary search on sorted dessert list\n",
    "* Conduct Bubble Sort\n",
    "* Conduct Selection Sort"
   ]
  },
  {
   "cell_type": "code",
   "execution_count": 1,
   "metadata": {},
   "outputs": [],
   "source": [
    "from numpy.random import seed\n",
    "import math \n",
    "from bisect import bisect_left\n",
    "import random\n",
    "seed(42)\n",
    "import time"
   ]
  },
  {
   "cell_type": "markdown",
   "metadata": {},
   "source": [
    "### Binary Search\n",
    "\n",
    "##### 1st Method\n",
    "\n",
    "Returning a boolean if the value is in the list.\n",
    "Capture the first and last index of the list, loop and divide the list capturing the mid value. In each loop will do the same, then compare if value input is equal to mid value."
   ]
  },
  {
   "cell_type": "code",
   "execution_count": 2,
   "metadata": {},
   "outputs": [],
   "source": [
    "index = [0, 1, 2, 3, 4, 5, 6, 7, 8, 9, 10, 11, 12, 13, 14]\n",
    "array = ['babka', 'baklava', 'cheesecake', 'cupcake', 'danish', 'eclair', 'funnelcake', 'kringle', 'lamington', 'profiterole', 'sopaipilla', 'strudel', 'tiramisu', 'torte', 'turnover']\n",
    "\n",
    "def binarySearch(array, value):\n",
    "  array = sorted(array)\n",
    "  first = 0\n",
    "  last = len(array) - 1\n",
    "\n",
    "  while first <= last:\n",
    "    midIndex = (first + last) // 2\n",
    "    midValue = array[midIndex]\n",
    "\n",
    "    if value == midValue:\n",
    "      return True\n",
    "    if value < midValue:\n",
    "      last = midIndex - 1\n",
    "    if value > midValue:\n",
    "      first = midIndex + 1\n",
    "  return False"
   ]
  },
  {
   "cell_type": "code",
   "execution_count": 3,
   "metadata": {},
   "outputs": [
    {
     "data": {
      "text/plain": [
       "False"
      ]
     },
     "execution_count": 3,
     "metadata": {},
     "output_type": "execute_result"
    }
   ],
   "source": [
    "binarySearch(array, 'doughnut')"
   ]
  },
  {
   "cell_type": "code",
   "execution_count": 4,
   "metadata": {},
   "outputs": [
    {
     "data": {
      "text/plain": [
       "True"
      ]
     },
     "execution_count": 4,
     "metadata": {},
     "output_type": "execute_result"
    }
   ],
   "source": [
    "binarySearch(array, 'tiramisu')"
   ]
  },
  {
   "cell_type": "markdown",
   "metadata": {},
   "source": [
    "#### 2nd Method\n",
    "\n",
    "Create Function, name:  binary_search\n",
    "Input:   list -> the list of sorted elements\n",
    "value -> the search value\n",
    "Output:  the index where the search value was found in the list, or -1, if the search value is not found\n",
    "\n",
    "So first we find the middle most value then # Compare the value the middle most value then from there we initialize the sorted list and print the search results."
   ]
  },
  {
   "cell_type": "code",
   "execution_count": 5,
   "metadata": {},
   "outputs": [],
   "source": [
    "def binary_search (list, val):\n",
    "    \n",
    "    list_size = len(list) - 1\n",
    "\n",
    "    idx0 = 0\n",
    "    idxn = list_size\n",
    "\n",
    "    while idx0 <= idxn:\n",
    "        midval = (idx0 + idxn)// 2\n",
    "\n",
    "        if list[midval] == val:\n",
    "            return midval\n",
    "\n",
    "        if val > list[midval]:\n",
    "            idx0 = midval + 1\n",
    "        else:\n",
    "            idxn = midval - 1\n",
    "\n",
    "    if idx0 > idxn:\n",
    "        return \"Dessert not in list\"\n",
    "\n",
    "list = ['babka', 'baklava', 'cheesecake', 'cupcake', 'danish', 'eclair', \n",
    "        'funnelcake', 'kringle', 'lamington', 'profiterole', 'sopaipilla', \n",
    "        'strudel', 'tiramisu', 'torte', 'turnover']\n",
    " "
   ]
  },
  {
   "cell_type": "code",
   "execution_count": 6,
   "metadata": {},
   "outputs": [
    {
     "data": {
      "text/plain": [
       "'Dessert not in list'"
      ]
     },
     "execution_count": 6,
     "metadata": {},
     "output_type": "execute_result"
    }
   ],
   "source": [
    "binary_search(list, 'doughnut') #should return Dessert not in list"
   ]
  },
  {
   "cell_type": "code",
   "execution_count": 7,
   "metadata": {},
   "outputs": [
    {
     "data": {
      "text/plain": [
       "12"
      ]
     },
     "execution_count": 7,
     "metadata": {},
     "output_type": "execute_result"
    }
   ],
   "source": [
    "binary_search(list, 'tiramisu') #should return index 12    "
   ]
  },
  {
   "cell_type": "markdown",
   "metadata": {},
   "source": [
    "a)  What sequence of 'middle' values are compared to the target when performing a binary search with target doughnut?\n",
    "The sequence with values **['babka', 'baklava', 'cheesecake', 'cupcake', 'danish', 'eclair', 'funnelcake']** are compared to the target when performing a binary search with target doughnut and ebcause it is not there, it will return a value of -1.\n",
    "\n",
    "\n",
    "b)  What sequence of 'middle' values are compared to the target when performing a binary search with target tiramisu?\n",
    "The sequence with values **['kringle', 'lamington', 'profiterole', 'sopaipilla', 'strudel', 'tiramisu', 'torte', 'turnover']** are compared to the target when performing a binary search with target tiramisu"
   ]
  },
  {
   "cell_type": "markdown",
   "metadata": {},
   "source": [
    "### Bubble Sort"
   ]
  },
  {
   "cell_type": "code",
   "execution_count": 8,
   "metadata": {},
   "outputs": [
    {
     "name": "stdout",
     "output_type": "stream",
     "text": [
      "[6, 8, 9, 10, 11, 14, 20, 60]\n"
     ]
    }
   ],
   "source": [
    "def bubbleSort(alist):\n",
    "    for passnum in range(len(alist)-1,0,-1):\n",
    "        for i in range(passnum):\n",
    "            if alist[i]>alist[i+1]:\n",
    "                temp = alist[i]\n",
    "                alist[i] = alist[i+1]\n",
    "                alist[i+1] = temp\n",
    "                \n",
    "alist = [9, 20, 6, 10, 14, 8, 60, 11]\n",
    "\n",
    "bubbleSort(alist)\n",
    "print(alist)\n"
   ]
  },
  {
   "cell_type": "code",
   "execution_count": 9,
   "metadata": {},
   "outputs": [],
   "source": [
    "l = [9, 20, 6, 10, 14, 8, 60, 11]\n",
    "\n",
    "def bubble_sort(l):\n",
    "    for passes_left in range(len(l)-1, 0, -1):\n",
    "        for index in range(passes_left):\n",
    "            if l[index] < l[index + 1]:\n",
    "               l[index], l[index + 1] = l[index + 1], l[index]\n",
    "    return l"
   ]
  },
  {
   "cell_type": "code",
   "execution_count": 10,
   "metadata": {},
   "outputs": [
    {
     "data": {
      "text/plain": [
       "[60, 20, 14, 11, 10, 9, 8, 6]"
      ]
     },
     "execution_count": 10,
     "metadata": {},
     "output_type": "execute_result"
    }
   ],
   "source": [
    "bubble_sort(l)"
   ]
  },
  {
   "cell_type": "markdown",
   "metadata": {},
   "source": [
    "l = [9, 20, 6, 10, 14, 8, 60, 11]\n",
    "\n",
    "###### First pass:\n",
    "\n",
    "Here, algorithm compares the first two elements, and since 9 < 20, nothing changes\n",
    "\n",
    "[9, 20, 6, 10, 14, 8, 60, 11] –> [9, 20, 6, 10, 14, 8, 60, 11], \n",
    "\n",
    "Swap since 20 > 6\n",
    "\n",
    "[9, 20, 6, 10, 14, 8, 60, 11] –> [9, 6, 20, 10, 14, 8, 60, 11], \n",
    "\n",
    "Swap since 20 > 10\n",
    "\n",
    "[9, 6, 20, 10, 14, 8, 60, 11] –> [9, 6, 10, 20, 14, 8, 60, 11], \n",
    "\n",
    "Swap since 20 > 14\n",
    "\n",
    "[9, 6, 10, 20, 14, 8, 60, 11] –> [9, 6, 10, 14, 20, 8, 60, 11], \n",
    "\n",
    "Swap since 20 > 14\n",
    "\n",
    "[9, 6, 10, 14, 20, 8, 60, 11] –> [9, 6, 10, 14, 8, 20, 60, 11], \n",
    "\n",
    "20 remains in that position, you only swap 60 and 11 because 60 > 11\n",
    "\n",
    "[9, 6, 10, 14, 8, 20, 60, 11] –> [9, 6, 10, 14, 8, 20, 11,60], \n",
    "\n",
    "###### Second pass:\n",
    "\n",
    "Go back to the first index(i=0), swap since 9 > 6\n",
    "\n",
    "[9, 6, 10, 14, 8, 20, 11,60] –> [6, 9, 10, 14, 8, 20, 11, 60],\n",
    "\n",
    "Since 9 < 10, and 10 < 14, swap 14 and 8 since 14 > 8\n",
    "\n",
    "[6, 9, 10, 14, 8, 20, 11, 60] –> [6, 9, 10, 8, 14, 20, 11, 60],\n",
    "\n",
    "This is list is now sorted we move on to the next pass\n",
    "\n",
    "[6, 9, 10, 8, 14, 20, 11, 60] –> [6, 9, 10 , 8, 14, 11, 20, 60],\n",
    "\n",
    "###### Third pass\n",
    "\n",
    "Go back to the first index(i=0), 6 and 9 remain in the same position,  swap 10 and 8 since 10 > 8\n",
    "\n",
    "[6, 9, 10 , 8, 14, 11, 20, 60] –> [6, 9, 8, 10, 14, 11, 20, 60], \n",
    "\n",
    "This is list is now sorted we move on to the next pass\n",
    "\n",
    "[6, 9, 8, 10, 14, 11, 20, 60] –> [6, 9, 8, 10, 11, 14, 20, 60],\n",
    "\n",
    "###### Fourth pass\n",
    "\n",
    "Go back to the first index(i=0), 6< 9, so it remains in its position but 9 > 8 so we swap and now our list is sorted but it doesn't know that so we do our final pass\n",
    "\n",
    "[6, 9, 8, 10, 14, 11, 20, 60] –> [6, 8, 9, 10, 11, 14, 20, 60]\n",
    "\n",
    "###### Last Pass\n",
    "Our list is sorted\n",
    "\n",
    "[6, 8, 9, 10, 11, 14, 20, 60] –> [6, 8, 9, 10, 11, 14, 20, 60]\n"
   ]
  },
  {
   "cell_type": "markdown",
   "metadata": {},
   "source": [
    "### Selection Sort\n",
    "\n",
    "Selection Sort is about picking/selecting the smallest element from the list and placing it in the sorted portion of the list. Initially, the first element is considered the minimum and compared with other elements. During these comparisons, if a smaller element is found then that is considered the new minimum. After completion of one full round, the smallest element found is swapped with the first element. This process continues till all the elements are sorted. "
   ]
  },
  {
   "cell_type": "code",
   "execution_count": 11,
   "metadata": {},
   "outputs": [
    {
     "name": "stdout",
     "output_type": "stream",
     "text": [
      "[6, 8, 9, 10, 11, 14, 20, 60]\n"
     ]
    }
   ],
   "source": [
    "alist = [9, 20, 6, 10, 14, 8, 60, 11]\n",
    "\n",
    "def selectionSort(alist):\n",
    "\n",
    "   for i in range(len(alist)):\n",
    "\n",
    "      # Find the minimum element in remaining\n",
    "       minPosition = i\n",
    "\n",
    "       for j in range(i+1, len(alist)):\n",
    "           if alist[minPosition] > alist[j]:\n",
    "               minPosition = j\n",
    "                \n",
    "       # Swap the found minimum element with minPosition       \n",
    "       temp = alist[i]\n",
    "       alist[i] = alist[minPosition]\n",
    "       alist[minPosition] = temp\n",
    "\n",
    "   return alist\n",
    "\n",
    "print(selectionSort(alist))"
   ]
  },
  {
   "cell_type": "markdown",
   "metadata": {},
   "source": [
    "With the list given we will see how Selection Sort works\n",
    "\n",
    "list = [9, 20, 6, 10, 14, 8, 60, 11]\n",
    "\n",
    "\n",
    "###### First Pass:\n",
    "\n",
    "9 is the minimum\n",
    "\n",
    "9 < 20: nothing happens\n",
    "\n",
    "9 > 6: 6 is new minimum\n",
    "\n",
    "6 < 10: nothing happens\n",
    "\n",
    "6 < 14: nothing happens\n",
    "\n",
    "6 < 8: nothing happens\n",
    "\n",
    "6 < 60: nothing happens\n",
    "\n",
    "6 < 11:nothing happens\n",
    "\n",
    "Swap 6 and 9\n",
    "\n",
    "list =  [6,20,9,10,8,14,11,60]\n",
    "\n",
    "###### Second Pass:\n",
    "\n",
    "6 is the minimum\n",
    "\n",
    "6  <20: nothing happens\n",
    "\n",
    "20 > 9: 9 is the new minimun\n",
    "\n",
    "20>10: 10 is the new minimum\n",
    "\n",
    "20>8: 8 is the new minimum\n",
    "\n",
    "20>14: 14 is the new minimun\n",
    "\n",
    "20>11: 11 is the new minimum\n",
    "\n",
    "20<60: nothing happens\n",
    "\n",
    "We swappped 20 with 6, 20 with 10, 20 with 8, 20 with  14 and 20 with 11\n",
    "\n",
    "list = [6,9,10,8,14,11,20,60]\n",
    "\n",
    "###### Third Pass:\n",
    "10 is the new minimum\n",
    "10 > 8: 8 is the new minimum\n",
    "10 < 14: nothing happens\n",
    "14 > 11: 11 is the new minimum\n",
    "14 < 20: nothing happens\n",
    "\n",
    "We swapped 8 and 11\n",
    "\n",
    "list = [6,9,8,10,11,14,20,60]\n",
    "\n",
    "###### Fourth Pass:\n",
    "\n",
    "9 is the new minimum\n",
    "9 > 8: 8 is the new minimum\n",
    "\n",
    "We swapped 8 and 9\n",
    "\n",
    "list is sorted \n",
    "list = [6,8,9,10,11,14,20,60]\n",
    "\n",
    "The three search algorithms have varying run times, with the unsorted sequential search being the least efficient and the binary search being the most efficient (among the three).\n",
    "\n",
    "a) Modify the code for the seq_search.py (for unsorted lists), seq_search_ordered.py and binary_search.py to count the number of elements checked during the search.\n",
    "\n",
    "### Sequential Search(unordered lists)  to count the number of elements checked during the search. "
   ]
  },
  {
   "cell_type": "code",
   "execution_count": 12,
   "metadata": {},
   "outputs": [
    {
     "name": "stdout",
     "output_type": "stream",
     "text": [
      "number of elements checked =  1\n",
      "number of elements checked =  2\n",
      "number of elements checked =  3\n",
      "number of elements checked =  4\n",
      "number of elements checked =  5\n",
      "number of elements checked =  6\n",
      "number of elements checked =  7\n",
      "number of elements checked =  8\n",
      "number of elements checked =  9\n",
      "number of elements checked =  10\n",
      "number of elements checked =  11\n",
      "number of elements checked =  12\n",
      "number of elements checked =  13\n",
      "number of elements checked =  14\n",
      "number of elements checked =  15\n",
      "number of elements checked =  16\n",
      "True\n"
     ]
    }
   ],
   "source": [
    "def linear_search(values, search_for):\n",
    "    search_at = 0\n",
    "    search_res = False\n",
    "    #add count, begin at 0 .\n",
    "    count = 0# Match the value with each data element\n",
    "    while search_at < len(values) and search_res is False:\n",
    "        if values[search_at] == search_for:\n",
    "            search_res = True\n",
    "        else:\n",
    "            search_at = search_at + 1\n",
    "            #initialize the count\n",
    "            count += 1\n",
    "            #print the count of number of elements checked.\n",
    "            print(\"number of elements checked = \", count)    \n",
    "    return search_res\n",
    "# i. Search for the value 9 in the following array:\n",
    "A = [6, 19, -3, 5, 12, 7, 21, -8, 25, 10, 0, 28, -6, 1, 33, \n",
    "     18, 9, 2, -13, 43]\n",
    "print(linear_search(A, 9)) #should return True"
   ]
  },
  {
   "cell_type": "code",
   "execution_count": 13,
   "metadata": {},
   "outputs": [
    {
     "name": "stdout",
     "output_type": "stream",
     "text": [
      "number of elements checked =  1\n",
      "number of elements checked =  2\n",
      "number of elements checked =  3\n",
      "number of elements checked =  4\n",
      "number of elements checked =  5\n",
      "number of elements checked =  6\n",
      "number of elements checked =  7\n",
      "number of elements checked =  8\n",
      "number of elements checked =  9\n",
      "number of elements checked =  10\n",
      "number of elements checked =  11\n",
      "number of elements checked =  12\n",
      "number of elements checked =  13\n",
      "number of elements checked =  14\n",
      "number of elements checked =  15\n",
      "number of elements checked =  16\n",
      "number of elements checked =  17\n",
      "number of elements checked =  18\n",
      "number of elements checked =  19\n",
      "number of elements checked =  20\n",
      "False\n"
     ]
    }
   ],
   "source": [
    "# ii.  Search for the value 11 in the following array:\n",
    "A = [6, 19, -3, 5, 12, 7, 21, -8, 25, 10, 0, 28, -6, 1, 33, \n",
    "     18, 9, 2, -13, 43]\n",
    "print(linear_search(A, 11)) #should return True"
   ]
  },
  {
   "cell_type": "code",
   "execution_count": null,
   "metadata": {},
   "outputs": [],
   "source": [
    "# iii. Search for the value 11 in the following array:\n",
    "A = [6, 19, -3, 5, 12, 7, 21, -8, 25, 10, 0, 28, -6, 1, 33, 18, 9, \n",
    "     2, -13, 43, -15, 4, 22, 38, -5, 13, 23, -11, 29, -20, 41, 31, -23, 35, 40, 14, 8, -18, 16, 36]"
   ]
  },
  {
   "cell_type": "code",
   "execution_count": 14,
   "metadata": {},
   "outputs": [
    {
     "name": "stdout",
     "output_type": "stream",
     "text": [
      "5\n",
      "Not in list\n",
      "number of elements checked =  1\n",
      "number of elements checked =  2\n",
      "number of elements checked =  3\n",
      "number of elements checked =  4\n",
      "number of elements checked =  5\n",
      "number of elements checked =  6\n",
      "number of elements checked =  7\n",
      "number of elements checked =  8\n",
      "number of elements checked =  9\n",
      "number of elements checked =  10\n",
      "number of elements checked =  11\n",
      "number of elements checked =  12\n",
      "number of elements checked =  13\n",
      "number of elements checked =  14\n",
      "number of elements checked =  15\n",
      "number of elements checked =  16\n",
      "number of elements checked =  17\n",
      "number of elements checked =  18\n",
      "number of elements checked =  19\n",
      "number of elements checked =  20\n",
      "number of elements checked =  21\n",
      "number of elements checked =  22\n",
      "number of elements checked =  23\n",
      "number of elements checked =  24\n",
      "number of elements checked =  25\n",
      "number of elements checked =  26\n",
      "number of elements checked =  27\n",
      "number of elements checked =  28\n",
      "number of elements checked =  29\n",
      "number of elements checked =  30\n",
      "number of elements checked =  31\n",
      "number of elements checked =  32\n",
      "number of elements checked =  33\n",
      "number of elements checked =  34\n",
      "number of elements checked =  35\n",
      "number of elements checked =  36\n",
      "number of elements checked =  37\n",
      "number of elements checked =  38\n",
      "number of elements checked =  39\n",
      "number of elements checked =  40\n",
      "False\n"
     ]
    }
   ],
   "source": [
    "def bsearch(list, val):\n",
    "\n",
    "    list_size = len(list) - 1\n",
    "\n",
    "    idx0 = 0\n",
    "    idxn = list_size\n",
    "# Find the middle most value\n",
    "\n",
    "    while idx0 <= idxn:\n",
    "        midval = (idx0 + idxn)// 2\n",
    "\n",
    "        if list[midval] == val:\n",
    "            return midval\n",
    "\n",
    "# Compare the value the middle most value\n",
    "        if val > list[midval]:\n",
    "            idx0 = midval + 1\n",
    "        else:\n",
    "            idxn = midval - 1\n",
    "\n",
    "    if idx0 > idxn:\n",
    "        return \"Not in list\"\n",
    "# Initialize the sorted list\n",
    "list = [2,7,19,34,53,72]\n",
    "\n",
    "# Print the search result\n",
    "print(bsearch(list,72)) #should return index 5\n",
    "print(bsearch(list,11)) #should return Not in list# ii.  Search for the value 11 in the following array:\n",
    "A = [6, 19, -3, 5, 12, 7, 21, -8, 25, 10, 0, 28, -6, 1, 33, \n",
    "     18, 9, 2, -13, 43, -15, 4, 22, 38, -5, 13, 23, -11, 29, \n",
    "     -20, 41, 31, -23, 35, 40, 14, 8, -18, 16, 36]\n",
    "print(linear_search(A, 11)) #should return True"
   ]
  },
  {
   "cell_type": "markdown",
   "metadata": {},
   "source": [
    "### Sequential Search (ordered lists)  to count the number of elements checked during the search. "
   ]
  },
  {
   "cell_type": "markdown",
   "metadata": {},
   "source": [
    "First we have to sort out our list 'A' so that we can perform a Sequential Search on a ordered list"
   ]
  },
  {
   "cell_type": "code",
   "execution_count": 15,
   "metadata": {},
   "outputs": [
    {
     "name": "stdout",
     "output_type": "stream",
     "text": [
      "[-13, -8, -6, -3, 0, 1, 2, 5, 6, 7, 9, 10, 12, 18, 19, 21, 25, 28, 33, 43]\n"
     ]
    }
   ],
   "source": [
    "def bubbleSort(A):\n",
    "    for passnum in range(len(A)-1,0,-1):\n",
    "        for i in range(passnum):\n",
    "            if A[i]>A[i+1]:\n",
    "                temp = A[i]\n",
    "                A[i] = A[i+1]\n",
    "                A[i+1] = temp\n",
    "                \n",
    "A = [6, 19, -3, 5, 12, 7, 21, -8, 25, 10, 0, 28, \n",
    "     -6, 1, 33, 18, 9, 2, -13, 43]\n",
    "\n",
    "bubbleSort(A)\n",
    "print(A)\n"
   ]
  },
  {
   "cell_type": "code",
   "execution_count": 16,
   "metadata": {},
   "outputs": [],
   "source": [
    "def orderedSequentialSearch(A, item):\n",
    "    pos = 0\n",
    "    found = False\n",
    "    stop = False\n",
    "    count = 0\n",
    "\n",
    "    while pos < len(alist) and not found and not stop:\n",
    "        if alist[pos] == item:\n",
    "            found = True\n",
    "        else:\n",
    "            if alist[pos] > item:\n",
    "                stop = True\n",
    "            else:\n",
    "                pos = pos+1\n",
    "        count += 1\n",
    "        #print the count of number of elements checked.\n",
    "        print(\"number of elements checked is \", count)\n",
    "        return found"
   ]
  },
  {
   "cell_type": "code",
   "execution_count": 17,
   "metadata": {},
   "outputs": [
    {
     "name": "stdout",
     "output_type": "stream",
     "text": [
      "number of elements checked is  1\n",
      "False\n"
     ]
    }
   ],
   "source": [
    "#i. Search for the value 9 in the following array:\n",
    "A = [6, 19, -3, 5, 12, 7, 21, -8, 25, 10, 0, 28, -6, 1, 33, 18, 9, 2, -13, 43]\n",
    "print(orderedSequentialSearch(A, 9)) "
   ]
  },
  {
   "cell_type": "code",
   "execution_count": 18,
   "metadata": {},
   "outputs": [
    {
     "name": "stdout",
     "output_type": "stream",
     "text": [
      "number of elements checked is  1\n",
      "False\n"
     ]
    }
   ],
   "source": [
    "#ii.  Search for the value 11 in the following array:\n",
    "A = [6, 19, -3, 5, 12, 7, 21, -8, 25, 10, 0, 28, -6, \n",
    "     1, 33, 18, 9, 2, -13, 43]\n",
    "print(orderedSequentialSearch(A, 11)) #return False"
   ]
  },
  {
   "cell_type": "code",
   "execution_count": 19,
   "metadata": {},
   "outputs": [
    {
     "name": "stdout",
     "output_type": "stream",
     "text": [
      "number of elements checked is  1\n",
      "False\n"
     ]
    }
   ],
   "source": [
    "# iii. Search for the value 11 in the following array:\n",
    "A = [6, 19, -3, 5, 12, 7, 21, -8, 25, 10, 0, 28, -6, 1, \n",
    "     33, 18, 9, 2, -13, 43, -15, 4, 22, 38, -5, 13, 23, \n",
    "     -11, 29, -20, 41, 31, -23, 35, 40, 14, 8, -18, 16, 36]\n",
    "print(orderedSequentialSearch(A, 11)) #return False"
   ]
  },
  {
   "cell_type": "markdown",
   "metadata": {},
   "source": [
    "### Binary Search to count the number of elements checked during the search. "
   ]
  },
  {
   "cell_type": "code",
   "execution_count": 20,
   "metadata": {},
   "outputs": [],
   "source": [
    "def binarySearch(array, value):\n",
    "    array = sorted(array)\n",
    "    first = 0\n",
    "    last = len(array) - 1\n",
    "    count = 0\n",
    "    \n",
    "    while first <= last:\n",
    "        midIndex = (first + last) // 2\n",
    "        midValue = array[midIndex]\n",
    "        \n",
    "        if value == midValue:\n",
    "            return True\n",
    "        if value < midValue:\n",
    "            last = midIndex - 1\n",
    "        if value > midValue:\n",
    "            first = midIndex + 1\n",
    "            count += 1\n",
    "            \n",
    "    print(\"number of elements checked is \", count)\n",
    "    return False"
   ]
  },
  {
   "cell_type": "code",
   "execution_count": 21,
   "metadata": {},
   "outputs": [
    {
     "name": "stdout",
     "output_type": "stream",
     "text": [
      "True\n"
     ]
    }
   ],
   "source": [
    "#i. Search for the value 9 in the following array:\n",
    "A = [6, 19, -3, 5, 12, 7, 21, -8, 25, 10, 0, 28, -6, 1, 33, 18, 9, 2, -13, 43]\n",
    "print(binarySearch(A, 9)) "
   ]
  },
  {
   "cell_type": "code",
   "execution_count": 22,
   "metadata": {},
   "outputs": [
    {
     "name": "stdout",
     "output_type": "stream",
     "text": [
      "number of elements checked is  2\n",
      "False\n"
     ]
    }
   ],
   "source": [
    "#ii.  Search for the value 11 in the following array:\n",
    "A = [6, 19, -3, 5, 12, 7, 21, -8, 25, 10, 0, 28, -6, \n",
    "     1, 33, 18, 9, 2, -13, 43]\n",
    "print(binarySearch(A, 11)) #return False"
   ]
  },
  {
   "cell_type": "code",
   "execution_count": 23,
   "metadata": {},
   "outputs": [
    {
     "name": "stdout",
     "output_type": "stream",
     "text": [
      "number of elements checked is  1\n",
      "False\n"
     ]
    }
   ],
   "source": [
    "# iii. Search for the value 11 in the following array:\n",
    "A = [6, 19, -3, 5, 12, 7, 21, -8, 25, 10, 0, 28, -6, 1, \n",
    "     33, 18, 9, 2, -13, 43, -15, 4, 22, 38, -5, 13, 23, \n",
    "     -11, 29, -20, 41, 31, -23, 35, 40, 14, 8, -18, 16, 36]\n",
    "print(binarySearch(A, 11)) #return False"
   ]
  },
  {
   "cell_type": "code",
   "execution_count": 24,
   "metadata": {},
   "outputs": [],
   "source": [
    "fifty_int = random.sample(range(100), 50)\n",
    "thousand_int = random.sample(range(1000), 1000)"
   ]
  },
  {
   "cell_type": "code",
   "execution_count": null,
   "metadata": {},
   "outputs": [],
   "source": []
  }
 ],
 "metadata": {
  "kernelspec": {
   "display_name": "Python 3",
   "language": "python",
   "name": "python3"
  },
  "language_info": {
   "codemirror_mode": {
    "name": "ipython",
    "version": 3
   },
   "file_extension": ".py",
   "mimetype": "text/x-python",
   "name": "python",
   "nbconvert_exporter": "python",
   "pygments_lexer": "ipython3",
   "version": "3.7.3"
  }
 },
 "nbformat": 4,
 "nbformat_minor": 2
}
